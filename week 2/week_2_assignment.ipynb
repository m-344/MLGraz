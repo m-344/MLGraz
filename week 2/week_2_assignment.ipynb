{
 "cells": [
  {
   "cell_type": "markdown",
   "metadata": {
    "colab_type": "text",
    "id": "ICEGM7KHcH9K"
   },
   "source": [
    "# Assignment Week 2\n",
    "![alt text](https://secure.meetupstatic.com/photos/event/c/9/7/a/600_487911578.jpeg)\n",
    "\n",
    "Welcome to week 2!\n",
    "In this assignment, we will use our newly gained skills to answer some questions.\n",
    "[Quiz](https://forms.gle/FbhJCZfbQVvG8W3b8)\n",
    "\n",
    "\n"
   ]
  },
  {
   "cell_type": "markdown",
   "metadata": {
    "colab_type": "text",
    "id": "G-tE_Tdobm__"
   },
   "source": [
    "# Dowload Data"
   ]
  },
  {
   "cell_type": "markdown",
   "metadata": {
    "colab_type": "text",
    "id": "ajFUSeDZcGP2"
   },
   "source": []
  },
  {
   "cell_type": "code",
   "execution_count": 1,
   "metadata": {
    "colab": {
     "base_uri": "https://localhost:8080/",
     "height": 212
    },
    "colab_type": "code",
    "id": "8hrKHNJ3bodn",
    "outputId": "dc43c35a-4dbe-43f9-a453-3a3ba01e40c2"
   },
   "outputs": [
    {
     "name": "stdout",
     "output_type": "stream",
     "text": [
      "--2020-04-04 09:04:32--  https://www.mlgraz.at/course_files/week2/spotify_mlgraz.csv\n",
      "Resolving www.mlgraz.at (www.mlgraz.at)... 81.19.159.92\n",
      "Connecting to www.mlgraz.at (www.mlgraz.at)|81.19.159.92|:443... connected.\n",
      "HTTP request sent, awaiting response... 200 OK\n",
      "Length: 167862 (164K) [text/csv]\n",
      "Saving to: ‘spotify_mlgraz.csv’\n",
      "\n",
      "spotify_mlgraz.csv  100%[===================>] 163.93K   478KB/s    in 0.3s    \n",
      "\n",
      "2020-04-04 09:04:33 (478 KB/s) - ‘spotify_mlgraz.csv’ saved [167862/167862]\n",
      "\n"
     ]
    }
   ],
   "source": [
    "!wget https://www.mlgraz.at/course_files/week2/spotify_mlgraz.csv"
   ]
  },
  {
   "cell_type": "markdown",
   "metadata": {
    "colab_type": "text",
    "id": "lgGgbz3Ib1fp"
   },
   "source": [
    "# Load Libraries"
   ]
  },
  {
   "cell_type": "code",
   "execution_count": null,
   "metadata": {
    "colab": {},
    "colab_type": "code",
    "id": "a2VbVQdgb4NE"
   },
   "outputs": [],
   "source": [
    "import pandas as pd"
   ]
  },
  {
   "cell_type": "code",
   "execution_count": null,
   "metadata": {
    "colab": {},
    "colab_type": "code",
    "id": "vBh8xUG1b5QM"
   },
   "outputs": [],
   "source": [
    "df = pd.read_csv(\"spotify_mlgraz.csv\")"
   ]
  },
  {
   "cell_type": "code",
   "execution_count": null,
   "metadata": {
    "colab": {},
    "colab_type": "code",
    "id": "9bxwMOFIb_iU"
   },
   "outputs": [],
   "source": [
    "df.head()"
   ]
  }
 ],
 "metadata": {
  "colab": {
   "collapsed_sections": [],
   "name": "week 2 - assignment.ipynb",
   "provenance": []
  },
  "kernelspec": {
   "display_name": "Python 3",
   "language": "python",
   "name": "python3"
  },
  "language_info": {
   "codemirror_mode": {
    "name": "ipython",
    "version": 3
   },
   "file_extension": ".py",
   "mimetype": "text/x-python",
   "name": "python",
   "nbconvert_exporter": "python",
   "pygments_lexer": "ipython3",
   "version": "3.7.6"
  }
 },
 "nbformat": 4,
 "nbformat_minor": 4
}
