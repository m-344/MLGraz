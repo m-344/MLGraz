{
  "nbformat": 4,
  "nbformat_minor": 0,
  "metadata": {
    "kernelspec": {
      "display_name": "Python 3",
      "language": "python",
      "name": "python3"
    },
    "language_info": {
      "codemirror_mode": {
        "name": "ipython",
        "version": 3
      },
      "file_extension": ".py",
      "mimetype": "text/x-python",
      "name": "python",
      "nbconvert_exporter": "python",
      "pygments_lexer": "ipython3",
      "version": "3.6.8"
    },
    "colab": {
      "name": "Week 4.ipynb",
      "provenance": [],
      "collapsed_sections": []
    }
  },
  "cells": [
    {
      "cell_type": "code",
      "metadata": {
        "id": "2N2lCtfASySg",
        "colab_type": "code",
        "colab": {}
      },
      "source": [
        "!pip install rfpimp"
      ],
      "execution_count": 0,
      "outputs": []
    },
    {
      "cell_type": "code",
      "metadata": {
        "id": "50BVrdyKvdOI",
        "colab_type": "code",
        "colab": {}
      },
      "source": [
        "!wget https://www.mlgraz.at/course_files/week4/loan.csv"
      ],
      "execution_count": 0,
      "outputs": []
    },
    {
      "cell_type": "code",
      "metadata": {
        "id": "pfOgk8vKvY-A",
        "colab_type": "code",
        "colab": {}
      },
      "source": [
        "import pandas as pd\n",
        "from sklearn.impute import SimpleImputer\n",
        "import numpy as np\n",
        "from sklearn.ensemble import RandomForestClassifier\n",
        "from  sklearn.preprocessing import OrdinalEncoder\n",
        "from sklearn.tree import DecisionTreeClassifier\n",
        "from sklearn.model_selection import train_test_split\n",
        "from sklearn.model_selection import cross_validate\n",
        "from  sklearn.metrics import *\n",
        "import matplotlib.pyplot as plt\n",
        "from sklearn.preprocessing import StandardScaler\n",
        "from sklearn import tree\n",
        "from sklearn import model_selection\n",
        "import plotly.express as px"
      ],
      "execution_count": 0,
      "outputs": []
    },
    {
      "cell_type": "code",
      "metadata": {
        "id": "txma3RuoTWzp",
        "colab_type": "code",
        "colab": {}
      },
      "source": [
        "import rfpimp"
      ],
      "execution_count": 0,
      "outputs": []
    },
    {
      "cell_type": "code",
      "metadata": {
        "id": "XVlWh2G6vY-R",
        "colab_type": "code",
        "colab": {}
      },
      "source": [
        "df = pd.read_csv(\"loan.csv\")"
      ],
      "execution_count": 0,
      "outputs": []
    },
    {
      "cell_type": "markdown",
      "metadata": {
        "id": "JKR-HOLQvY-c",
        "colab_type": "text"
      },
      "source": [
        "# EDA"
      ]
    },
    {
      "cell_type": "code",
      "metadata": {
        "id": "clya-xiKvY-e",
        "colab_type": "code",
        "colab": {}
      },
      "source": [
        "df.head()"
      ],
      "execution_count": 0,
      "outputs": []
    },
    {
      "cell_type": "markdown",
      "metadata": {
        "id": "KvveST7BvY-o",
        "colab_type": "text"
      },
      "source": [
        "**How many rows are there?**"
      ]
    },
    {
      "cell_type": "code",
      "metadata": {
        "id": "nGz-VJa8vY-q",
        "colab_type": "code",
        "colab": {}
      },
      "source": [
        "df.shape"
      ],
      "execution_count": 0,
      "outputs": []
    },
    {
      "cell_type": "markdown",
      "metadata": {
        "id": "tjS4Z4MHvY-y",
        "colab_type": "text"
      },
      "source": [
        "**How many Loans are there in total?**"
      ]
    },
    {
      "cell_type": "code",
      "metadata": {
        "id": "sEr8WkKvvY-z",
        "colab_type": "code",
        "colab": {}
      },
      "source": [
        "df.Loan_ID.nunique()"
      ],
      "execution_count": 0,
      "outputs": []
    },
    {
      "cell_type": "markdown",
      "metadata": {
        "id": "N-M6-Wd8vY-8",
        "colab_type": "text"
      },
      "source": [
        "**How many loans are accepted vs not?**"
      ]
    },
    {
      "cell_type": "code",
      "metadata": {
        "id": "ZEho5OG4vY--",
        "colab_type": "code",
        "colab": {}
      },
      "source": [
        "px.bar(data_frame=df, x=\"Loan_Status\")"
      ],
      "execution_count": 0,
      "outputs": []
    },
    {
      "cell_type": "markdown",
      "metadata": {
        "id": "i36EmPIYxGCU",
        "colab_type": "text"
      },
      "source": [
        "## Relationship with Loan Status"
      ]
    },
    {
      "cell_type": "markdown",
      "metadata": {
        "id": "ShRUcTYRxI4-",
        "colab_type": "text"
      },
      "source": [
        "Relationship between Loan and Gender"
      ]
    },
    {
      "cell_type": "code",
      "metadata": {
        "id": "11Po7OTPxTNN",
        "colab_type": "code",
        "colab": {}
      },
      "source": [
        "px.histogram(df, x=\"ApplicantIncome\", color=\"Loan_Status\")"
      ],
      "execution_count": 0,
      "outputs": []
    },
    {
      "cell_type": "code",
      "metadata": {
        "id": "0sJDaP1Bx-78",
        "colab_type": "code",
        "colab": {}
      },
      "source": [
        "df.groupby([\"Gender\", \"Loan_Status\"]).count()[\"Loan_ID\"]"
      ],
      "execution_count": 0,
      "outputs": []
    },
    {
      "cell_type": "markdown",
      "metadata": {
        "id": "oaTZkM2TvY_K",
        "colab_type": "text"
      },
      "source": [
        "# Dealing with Missing Values"
      ]
    },
    {
      "cell_type": "code",
      "metadata": {
        "id": "FD44q1q2vY_L",
        "colab_type": "code",
        "colab": {}
      },
      "source": [
        ""
      ],
      "execution_count": 0,
      "outputs": []
    },
    {
      "cell_type": "markdown",
      "metadata": {
        "id": "uATUsgeBzdon",
        "colab_type": "text"
      },
      "source": [
        "**Impute Missing Values (except Column LoanAmount) with the most frequent Values**"
      ]
    },
    {
      "cell_type": "code",
      "metadata": {
        "id": "53MglEwiznMf",
        "colab_type": "code",
        "colab": {}
      },
      "source": [
        "categorical_columns_missing = [\"Gender\", \"Married\", \"Dependents\", \"Credit_History\", \"Self_Employed\", \"Loan_Amount_Term\"]\n",
        "impute_missing=SimpleImputer(missing_values=np.NaN, strategy='most_frequent')\n",
        "df[categorical_columns_missing] = impute_missing.fit_transform(df[categorical_columns_missing])"
      ],
      "execution_count": 0,
      "outputs": []
    },
    {
      "cell_type": "markdown",
      "metadata": {
        "id": "3mWLunaM-lNV",
        "colab_type": "text"
      },
      "source": [
        "**Impute LoanAmount with the mean**"
      ]
    },
    {
      "cell_type": "code",
      "metadata": {
        "id": "ISUmij9vzc3H",
        "colab_type": "code",
        "colab": {}
      },
      "source": [
        "impute_missing=SimpleImputer(missing_values=np.NaN, strategy='mean')\n",
        "df[\"LoanAmount\"] = impute_missing.fit_transform(df[[\"LoanAmount\"]])"
      ],
      "execution_count": 0,
      "outputs": []
    },
    {
      "cell_type": "code",
      "metadata": {
        "id": "37LRzgy5-sVa",
        "colab_type": "code",
        "colab": {}
      },
      "source": [
        ""
      ],
      "execution_count": 0,
      "outputs": []
    },
    {
      "cell_type": "markdown",
      "metadata": {
        "id": "Q59Pq_M5vY_e",
        "colab_type": "text"
      },
      "source": [
        "# Encoding Categorical Data"
      ]
    },
    {
      "cell_type": "code",
      "metadata": {
        "id": "p_TzcKxs1nnU",
        "colab_type": "code",
        "colab": {}
      },
      "source": [
        "categorical_columns = [\"Gender\", \"Married\", \"Dependents\", \"Education\", \"Self_Employed\", \"Loan_Status\", \"Credit_History\", \"Property_Area\"]"
      ],
      "execution_count": 0,
      "outputs": []
    },
    {
      "cell_type": "markdown",
      "metadata": {
        "id": "RiPX3k0N-I2u",
        "colab_type": "text"
      },
      "source": [
        "**Set Datatype of Ordinal/Nominal Variables to Category**"
      ]
    },
    {
      "cell_type": "code",
      "metadata": {
        "id": "CPRL0gSP3-Ar",
        "colab_type": "code",
        "colab": {}
      },
      "source": [
        "for col in categorical_columns:\n",
        "    df[col] = df[col].astype('category')"
      ],
      "execution_count": 0,
      "outputs": []
    },
    {
      "cell_type": "markdown",
      "metadata": {
        "id": "m8qg1Dvf93h5",
        "colab_type": "text"
      },
      "source": [
        "**Drop Loan ID**"
      ]
    },
    {
      "cell_type": "code",
      "metadata": {
        "id": "Ef6P_TPM96IG",
        "colab_type": "code",
        "colab": {}
      },
      "source": [
        "df = df.drop(\"Loan_ID\", axis=1)"
      ],
      "execution_count": 0,
      "outputs": []
    },
    {
      "cell_type": "markdown",
      "metadata": {
        "id": "Ropo9K6n98WK",
        "colab_type": "text"
      },
      "source": [
        "**Create One Hot Encoding Features for the Categorical Variables**"
      ]
    },
    {
      "cell_type": "code",
      "metadata": {
        "id": "t8UcIz5w-EmI",
        "colab_type": "code",
        "colab": {}
      },
      "source": [
        "df = pd.get_dummies(df, drop_first=True)"
      ],
      "execution_count": 0,
      "outputs": []
    },
    {
      "cell_type": "code",
      "metadata": {
        "id": "guHoSt-ux77O",
        "colab_type": "code",
        "colab": {}
      },
      "source": [
        "df.head()"
      ],
      "execution_count": 0,
      "outputs": []
    },
    {
      "cell_type": "markdown",
      "metadata": {
        "id": "kDwSvegd9rPG",
        "colab_type": "text"
      },
      "source": [
        "**Rename Last Column to Load**"
      ]
    },
    {
      "cell_type": "code",
      "metadata": {
        "id": "quIsko3S6--_",
        "colab_type": "code",
        "colab": {}
      },
      "source": [
        "df.columns = list(df.columns.values[:-1]) + [\"Loan\"] "
      ],
      "execution_count": 0,
      "outputs": []
    },
    {
      "cell_type": "markdown",
      "metadata": {
        "id": "iMQBkCxU78ts",
        "colab_type": "text"
      },
      "source": [
        "# Split Input and Output"
      ]
    },
    {
      "cell_type": "code",
      "metadata": {
        "id": "8S6A9BAJ8BOS",
        "colab_type": "code",
        "colab": {}
      },
      "source": [
        "X = df[df.columns[:-1]]\n",
        "y = df[df.columns[-1:]]"
      ],
      "execution_count": 0,
      "outputs": []
    },
    {
      "cell_type": "markdown",
      "metadata": {
        "id": "iegOkD3KvY_f",
        "colab_type": "text"
      },
      "source": [
        "# Decision Tree"
      ]
    },
    {
      "cell_type": "code",
      "metadata": {
        "id": "YP7IOpL6vY_h",
        "colab_type": "code",
        "colab": {}
      },
      "source": [
        "model=DecisionTreeClassifier()"
      ],
      "execution_count": 0,
      "outputs": []
    },
    {
      "cell_type": "code",
      "metadata": {
        "id": "r5VrSvkH82Nh",
        "colab_type": "code",
        "colab": {}
      },
      "source": [
        "model.fit(X,y)"
      ],
      "execution_count": 0,
      "outputs": []
    },
    {
      "cell_type": "code",
      "metadata": {
        "id": "h6VTuUdX9CXM",
        "colab_type": "code",
        "colab": {}
      },
      "source": [
        "fig, axes = plt.subplots(nrows = 1,ncols = 1,figsize = (4,4), dpi=300)\n",
        "tree.plot_tree(model)\n",
        "fig.savefig('tree.png')"
      ],
      "execution_count": 0,
      "outputs": []
    },
    {
      "cell_type": "code",
      "metadata": {
        "id": "9OWqHuf8-3IA",
        "colab_type": "code",
        "colab": {}
      },
      "source": [
        "model.score(X,y)"
      ],
      "execution_count": 0,
      "outputs": []
    },
    {
      "cell_type": "markdown",
      "metadata": {
        "id": "LIEHlTTd-CJ7",
        "colab_type": "text"
      },
      "source": [
        "# Traint Test Split\n"
      ]
    },
    {
      "cell_type": "code",
      "metadata": {
        "id": "R_MLAFY_9_vK",
        "colab_type": "code",
        "colab": {}
      },
      "source": [
        "X_train, X_test, y_train, y_test = train_test_split(X, y, test_size=0.33, random_state=42)"
      ],
      "execution_count": 0,
      "outputs": []
    },
    {
      "cell_type": "code",
      "metadata": {
        "id": "mpkTW11z-f9t",
        "colab_type": "code",
        "colab": {}
      },
      "source": [
        "model=DecisionTreeClassifier()\n",
        "model.fit(X_train, y_train)"
      ],
      "execution_count": 0,
      "outputs": []
    },
    {
      "cell_type": "markdown",
      "metadata": {
        "id": "aqeJZSt8vY_n",
        "colab_type": "text"
      },
      "source": [
        "# Evaluation"
      ]
    },
    {
      "cell_type": "code",
      "metadata": {
        "id": "FS6JBsvvvY_p",
        "colab_type": "code",
        "colab": {}
      },
      "source": [
        "y_pred = model.predict(X_test)\n"
      ],
      "execution_count": 0,
      "outputs": []
    },
    {
      "cell_type": "code",
      "metadata": {
        "id": "YUctv2-c_X2R",
        "colab_type": "code",
        "colab": {}
      },
      "source": [
        "accuracy_score(y_test, y_pred)"
      ],
      "execution_count": 0,
      "outputs": []
    },
    {
      "cell_type": "code",
      "metadata": {
        "id": "y5ZncnKs_ix8",
        "colab_type": "code",
        "colab": {}
      },
      "source": [
        "precision_score(y_test, y_pred)"
      ],
      "execution_count": 0,
      "outputs": []
    },
    {
      "cell_type": "code",
      "metadata": {
        "id": "kq9OWl4k_61i",
        "colab_type": "code",
        "colab": {}
      },
      "source": [
        "recall_score(y_test, y_pred)"
      ],
      "execution_count": 0,
      "outputs": []
    },
    {
      "cell_type": "code",
      "metadata": {
        "id": "qTsWnF-Z_-zH",
        "colab_type": "code",
        "colab": {}
      },
      "source": [
        "f1_score(y_test, y_pred)"
      ],
      "execution_count": 0,
      "outputs": []
    },
    {
      "cell_type": "markdown",
      "metadata": {
        "id": "zf9gGQcUA4zJ",
        "colab_type": "text"
      },
      "source": [
        "# K-Folds Cross Validation"
      ]
    },
    {
      "cell_type": "code",
      "metadata": {
        "id": "cwSJZRzoA84d",
        "colab_type": "code",
        "colab": {}
      },
      "source": [
        "model=DecisionTreeClassifier()\n",
        "scores = cross_validate(model, X, y, cv=3, scoring=('accuracy', 'average_precision', 'recall','f1'))"
      ],
      "execution_count": 0,
      "outputs": []
    },
    {
      "cell_type": "code",
      "metadata": {
        "id": "_MThGkEFB4sr",
        "colab_type": "code",
        "colab": {}
      },
      "source": [
        "scores"
      ],
      "execution_count": 0,
      "outputs": []
    },
    {
      "cell_type": "markdown",
      "metadata": {
        "id": "LcFatPA4vY_x",
        "colab_type": "text"
      },
      "source": [
        "# Random Forest"
      ]
    },
    {
      "cell_type": "code",
      "metadata": {
        "id": "6VJpWwqmvY_z",
        "colab_type": "code",
        "colab": {}
      },
      "source": [
        "rfc = RandomForestClassifier()\n",
        "rfc_scores = cross_validate(rfc, X, y.values.ravel(), cv=3, scoring=('accuracy', 'average_precision', 'recall','f1'))"
      ],
      "execution_count": 0,
      "outputs": []
    },
    {
      "cell_type": "code",
      "metadata": {
        "id": "Pe5Ekr93Enc8",
        "colab_type": "code",
        "colab": {}
      },
      "source": [
        "rfc_scores"
      ],
      "execution_count": 0,
      "outputs": []
    },
    {
      "cell_type": "code",
      "metadata": {
        "id": "SkzWD7cKFNkQ",
        "colab_type": "code",
        "colab": {}
      },
      "source": [
        "report = pd.DataFrame(index=list(rfc_scores.keys())[2:], columns=['Decision Tree', 'Random Forest'])\n",
        "for key in report.index:\n",
        "  report.loc[key] = [np.mean(scores[key]), np.mean(rfc_scores[key])]\n",
        "\n",
        "report['Improvment'] = report['Random Forest'] - report['Decision Tree']\n",
        "report *= 100\n",
        "report = report.astype(float).round(1)"
      ],
      "execution_count": 0,
      "outputs": []
    },
    {
      "cell_type": "code",
      "metadata": {
        "id": "ig9zIVY3HN48",
        "colab_type": "code",
        "colab": {}
      },
      "source": [
        "report"
      ],
      "execution_count": 0,
      "outputs": []
    },
    {
      "cell_type": "markdown",
      "metadata": {
        "id": "u1KT6CFiTfGU",
        "colab_type": "text"
      },
      "source": [
        "# Feature Importance"
      ]
    },
    {
      "cell_type": "code",
      "metadata": {
        "id": "R4cSiloaTjhF",
        "colab_type": "code",
        "colab": {}
      },
      "source": [
        "rfc = RandomForestClassifier()\n",
        "rfc.fit(X_train, y_train.values.ravel())\n",
        "importance = rfpimp.importances(rfc, X_test, y_test)\n",
        "rfpimp.plot_importances(importance)"
      ],
      "execution_count": 0,
      "outputs": []
    },
    {
      "cell_type": "markdown",
      "metadata": {
        "id": "H2nUidlXvY_4",
        "colab_type": "text"
      },
      "source": [
        "# Feature Engineering"
      ]
    },
    {
      "cell_type": "code",
      "metadata": {
        "id": "z07I2cCcvY_5",
        "colab_type": "code",
        "colab": {}
      },
      "source": [
        ""
      ],
      "execution_count": 0,
      "outputs": []
    }
  ]
}