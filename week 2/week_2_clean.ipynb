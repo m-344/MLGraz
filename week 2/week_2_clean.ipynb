{
  "nbformat": 4,
  "nbformat_minor": 0,
  "metadata": {
    "kernelspec": {
      "display_name": "Python 3",
      "language": "python",
      "name": "python3"
    },
    "language_info": {
      "codemirror_mode": {
        "name": "ipython",
        "version": 3
      },
      "file_extension": ".py",
      "mimetype": "text/x-python",
      "name": "python",
      "nbconvert_exporter": "python",
      "pygments_lexer": "ipython3",
      "version": "3.6.8"
    },
    "colab": {
      "name": "week_2.ipynb",
      "provenance": [],
      "collapsed_sections": [
        "CplL4wIgVO51",
        "A9iEd7Udq_EK",
        "NIa2lzQdrTvU",
        "IEZrs0iPxa0k",
        "Lw9hK7lBxiDc"
      ]
    }
  },
  "cells": [
    {
      "cell_type": "markdown",
      "metadata": {
        "id": "CplL4wIgVO51",
        "colab_type": "text"
      },
      "source": [
        "# Load Libraries & Data"
      ]
    },
    {
      "cell_type": "code",
      "metadata": {
        "id": "vko633A8fpn8",
        "colab_type": "code",
        "colab": {}
      },
      "source": [
        "!wget https://www.mlgraz.at/course_files/week2/adult_rev2.csv"
      ],
      "execution_count": 0,
      "outputs": []
    },
    {
      "cell_type": "code",
      "metadata": {
        "id": "fjV3U8nnVO53",
        "colab_type": "code",
        "colab": {}
      },
      "source": [
        "import pandas as pd\n",
        "import numpy as np"
      ],
      "execution_count": 0,
      "outputs": []
    },
    {
      "cell_type": "markdown",
      "metadata": {
        "id": "yDgpVjuKVO6N",
        "colab_type": "text"
      },
      "source": [
        "**Load the data in a variable named df**\n",
        "\n",
        "Tip: pd.read_csv()\n",
        "\n",
        "\n",
        "\n",
        "\n",
        "The file path is \"adult_rev2.csv\""
      ]
    },
    {
      "cell_type": "code",
      "metadata": {
        "id": "Uffdc1_xVO6T",
        "colab_type": "code",
        "colab": {}
      },
      "source": [
        ""
      ],
      "execution_count": 0,
      "outputs": []
    },
    {
      "cell_type": "markdown",
      "metadata": {
        "id": "Ro2dNddOVO6c",
        "colab_type": "text"
      },
      "source": [
        "**How many rows and columns does the data have?**\n",
        "\n",
        "df.shape > (rows,columns)"
      ]
    },
    {
      "cell_type": "code",
      "metadata": {
        "id": "Jpk4lZKrVO6f",
        "colab_type": "code",
        "colab": {}
      },
      "source": [
        "df.shape"
      ],
      "execution_count": 0,
      "outputs": []
    },
    {
      "cell_type": "markdown",
      "metadata": {
        "id": "4Qeky_hKVO6n",
        "colab_type": "text"
      },
      "source": [
        "**Show the first 5 rows of the data**"
      ]
    },
    {
      "cell_type": "code",
      "metadata": {
        "id": "XAeosoXlVO6o",
        "colab_type": "code",
        "colab": {}
      },
      "source": [
        ""
      ],
      "execution_count": 0,
      "outputs": []
    },
    {
      "cell_type": "markdown",
      "metadata": {
        "id": "A9iEd7Udq_EK",
        "colab_type": "text"
      },
      "source": [
        "# Data Cleaning"
      ]
    },
    {
      "cell_type": "markdown",
      "metadata": {
        "id": "2sgt92ctVO6w",
        "colab_type": "text"
      },
      "source": [
        "**Drop the duplicates in the data**\n",
        "\n",
        "Note: replace the current df (dataframe) with the clean df"
      ]
    },
    {
      "cell_type": "code",
      "metadata": {
        "id": "Jg-h4rqTVO6x",
        "colab_type": "code",
        "colab": {}
      },
      "source": [
        ""
      ],
      "execution_count": 0,
      "outputs": []
    },
    {
      "cell_type": "markdown",
      "metadata": {
        "id": "o4yElj5GVO66",
        "colab_type": "text"
      },
      "source": [
        "**How many rows are left?**"
      ]
    },
    {
      "cell_type": "code",
      "metadata": {
        "id": "NhAnLbwaVO68",
        "colab_type": "code",
        "colab": {}
      },
      "source": [
        ""
      ],
      "execution_count": 0,
      "outputs": []
    },
    {
      "cell_type": "markdown",
      "metadata": {
        "id": "7Q6ItP3xVO7C",
        "colab_type": "text"
      },
      "source": [
        "**How many values are there in missing in the column workclass?**"
      ]
    },
    {
      "cell_type": "code",
      "metadata": {
        "id": "qGHv1Pl9VO7E",
        "colab_type": "code",
        "colab": {}
      },
      "source": [
        ""
      ],
      "execution_count": 0,
      "outputs": []
    },
    {
      "cell_type": "markdown",
      "metadata": {
        "id": "rUKP1BauVO7I",
        "colab_type": "text"
      },
      "source": [
        "**Drop all missing values**\n",
        "\n",
        "Note: replace the current df (dataframe) with the clean df"
      ]
    },
    {
      "cell_type": "code",
      "metadata": {
        "id": "rcbLu1tqVO7L",
        "colab_type": "code",
        "colab": {}
      },
      "source": [
        ""
      ],
      "execution_count": 0,
      "outputs": []
    },
    {
      "cell_type": "markdown",
      "metadata": {
        "id": "SgZinmnwVO7Q",
        "colab_type": "text"
      },
      "source": [
        "**How many rows are left?**"
      ]
    },
    {
      "cell_type": "code",
      "metadata": {
        "id": "kETlesZFVO7S",
        "colab_type": "code",
        "colab": {}
      },
      "source": [
        ""
      ],
      "execution_count": 0,
      "outputs": []
    },
    {
      "cell_type": "markdown",
      "metadata": {
        "id": "P8zxk9xCVO7Z",
        "colab_type": "text"
      },
      "source": [
        "**Is the income column inconsistent? Then fix it**  "
      ]
    },
    {
      "cell_type": "code",
      "metadata": {
        "id": "sVKTu0TfVO7a",
        "colab_type": "code",
        "colab": {}
      },
      "source": [
        "df.income.value_counts()"
      ],
      "execution_count": 0,
      "outputs": []
    },
    {
      "cell_type": "code",
      "metadata": {
        "id": "QaWalI0dVO7h",
        "colab_type": "code",
        "colab": {}
      },
      "source": [
        ""
      ],
      "execution_count": 0,
      "outputs": []
    },
    {
      "cell_type": "code",
      "metadata": {
        "id": "ZCvCQPQnVO7p",
        "colab_type": "code",
        "colab": {}
      },
      "source": [
        ""
      ],
      "execution_count": 0,
      "outputs": []
    },
    {
      "cell_type": "code",
      "metadata": {
        "id": "iq4mPCxMVO7u",
        "colab_type": "code",
        "colab": {}
      },
      "source": [
        ""
      ],
      "execution_count": 0,
      "outputs": []
    },
    {
      "cell_type": "code",
      "metadata": {
        "id": "jgNwcPSlVO71",
        "colab_type": "code",
        "colab": {}
      },
      "source": [
        ""
      ],
      "execution_count": 0,
      "outputs": []
    },
    {
      "cell_type": "markdown",
      "metadata": {
        "id": "2pCAl89MVO77",
        "colab_type": "text"
      },
      "source": [
        "**Drop social number. How many column are there left?** \n",
        "\n",
        "Note: Replace the old dataframe with the new clean one"
      ]
    },
    {
      "cell_type": "code",
      "metadata": {
        "id": "oa4fpYsOVO78",
        "colab_type": "code",
        "colab": {}
      },
      "source": [
        ""
      ],
      "execution_count": 0,
      "outputs": []
    },
    {
      "cell_type": "code",
      "metadata": {
        "id": "YJzZFBHqVO8B",
        "colab_type": "code",
        "colab": {}
      },
      "source": [
        ""
      ],
      "execution_count": 0,
      "outputs": []
    },
    {
      "cell_type": "markdown",
      "metadata": {
        "id": "NIa2lzQdrTvU",
        "colab_type": "text"
      },
      "source": [
        "# Exploratory Data Analysis"
      ]
    },
    {
      "cell_type": "markdown",
      "metadata": {
        "id": "IEZrs0iPxa0k",
        "colab_type": "text"
      },
      "source": [
        "## Univariate"
      ]
    },
    {
      "cell_type": "markdown",
      "metadata": {
        "id": "KK48P-IkVO8H",
        "colab_type": "text"
      },
      "source": [
        "**Describe Age**"
      ]
    },
    {
      "cell_type": "code",
      "metadata": {
        "id": "AbYJAbVrVO8I",
        "colab_type": "code",
        "colab": {}
      },
      "source": [
        ""
      ],
      "execution_count": 0,
      "outputs": []
    },
    {
      "cell_type": "markdown",
      "metadata": {
        "id": "lcMZ7kIYVO8P",
        "colab_type": "text"
      },
      "source": [
        "**Determine the mean of the column \"hours.per.week\"**"
      ]
    },
    {
      "cell_type": "code",
      "metadata": {
        "id": "GS6ir90eVO8Q",
        "colab_type": "code",
        "colab": {}
      },
      "source": [
        ""
      ],
      "execution_count": 0,
      "outputs": []
    },
    {
      "cell_type": "code",
      "metadata": {
        "id": "_LrwZXC9VO8W",
        "colab_type": "code",
        "colab": {}
      },
      "source": [
        ""
      ],
      "execution_count": 0,
      "outputs": []
    },
    {
      "cell_type": "code",
      "metadata": {
        "id": "o2u_7HEQVO8b",
        "colab_type": "code",
        "colab": {}
      },
      "source": [
        ""
      ],
      "execution_count": 0,
      "outputs": []
    },
    {
      "cell_type": "code",
      "metadata": {
        "id": "z_7V3L8FVO8g",
        "colab_type": "code",
        "colab": {}
      },
      "source": [
        ""
      ],
      "execution_count": 0,
      "outputs": []
    },
    {
      "cell_type": "code",
      "metadata": {
        "id": "oe-e7XOVVO8n",
        "colab_type": "code",
        "colab": {}
      },
      "source": [
        ""
      ],
      "execution_count": 0,
      "outputs": []
    },
    {
      "cell_type": "code",
      "metadata": {
        "id": "90iHYfZzVO8t",
        "colab_type": "code",
        "colab": {}
      },
      "source": [
        ""
      ],
      "execution_count": 0,
      "outputs": []
    },
    {
      "cell_type": "markdown",
      "metadata": {
        "id": "cymLXGqwVO8x",
        "colab_type": "text"
      },
      "source": [
        "**What is the diference between mean and median on capital gain?**"
      ]
    },
    {
      "cell_type": "code",
      "metadata": {
        "id": "qm3MmEKOVO8y",
        "colab_type": "code",
        "colab": {}
      },
      "source": [
        ""
      ],
      "execution_count": 0,
      "outputs": []
    },
    {
      "cell_type": "markdown",
      "metadata": {
        "id": "KlKisXyIVO84",
        "colab_type": "text"
      },
      "source": [
        "**How many unique workclasses?** "
      ]
    },
    {
      "cell_type": "code",
      "metadata": {
        "id": "tB4zb0csVO85",
        "colab_type": "code",
        "colab": {}
      },
      "source": [
        ""
      ],
      "execution_count": 0,
      "outputs": []
    },
    {
      "cell_type": "markdown",
      "metadata": {
        "id": "xk6-7vVrVO89",
        "colab_type": "text"
      },
      "source": [
        "**How many different types of education are there?** "
      ]
    },
    {
      "cell_type": "code",
      "metadata": {
        "id": "3Fjb1FEGVO8_",
        "colab_type": "code",
        "colab": {}
      },
      "source": [
        ""
      ],
      "execution_count": 0,
      "outputs": []
    },
    {
      "cell_type": "markdown",
      "metadata": {
        "id": "OmV8MO52VO9D",
        "colab_type": "text"
      },
      "source": [
        "**How many people are divorced?**"
      ]
    },
    {
      "cell_type": "code",
      "metadata": {
        "id": "xGl7pa7rVO9E",
        "colab_type": "code",
        "colab": {}
      },
      "source": [
        ""
      ],
      "execution_count": 0,
      "outputs": []
    },
    {
      "cell_type": "code",
      "metadata": {
        "id": "fthgXZZhntWU",
        "colab_type": "code",
        "colab": {}
      },
      "source": [
        ""
      ],
      "execution_count": 0,
      "outputs": []
    },
    {
      "cell_type": "markdown",
      "metadata": {
        "id": "FFrTShuxVO9J",
        "colab_type": "text"
      },
      "source": [
        "**Histogram Age** "
      ]
    },
    {
      "cell_type": "code",
      "metadata": {
        "id": "SmD1hbwDVO9L",
        "colab_type": "code",
        "colab": {}
      },
      "source": [
        ""
      ],
      "execution_count": 0,
      "outputs": []
    },
    {
      "cell_type": "markdown",
      "metadata": {
        "id": "U7S3XZgiVO9O",
        "colab_type": "text"
      },
      "source": [
        "**Create a countplot for martial status** "
      ]
    },
    {
      "cell_type": "code",
      "metadata": {
        "id": "62tcqnRLVO9P",
        "colab_type": "code",
        "colab": {}
      },
      "source": [
        ""
      ],
      "execution_count": 0,
      "outputs": []
    },
    {
      "cell_type": "code",
      "metadata": {
        "id": "Er05d6ggVO9V",
        "colab_type": "code",
        "colab": {}
      },
      "source": [
        ""
      ],
      "execution_count": 0,
      "outputs": []
    },
    {
      "cell_type": "markdown",
      "metadata": {
        "id": "Lw9hK7lBxiDc",
        "colab_type": "text"
      },
      "source": [
        "## Bivariate Analysis"
      ]
    },
    {
      "cell_type": "markdown",
      "metadata": {
        "id": "3qZ2tEMWVO9Z",
        "colab_type": "text"
      },
      "source": [
        "**How many Salesperson make a capital gain of over 80000?**"
      ]
    },
    {
      "cell_type": "code",
      "metadata": {
        "id": "wBf9hIeFVO9Z",
        "colab_type": "code",
        "colab": {}
      },
      "source": [
        ""
      ],
      "execution_count": 0,
      "outputs": []
    },
    {
      "cell_type": "code",
      "metadata": {
        "id": "oTYyQPiDVO9g",
        "colab_type": "code",
        "colab": {}
      },
      "source": [
        ""
      ],
      "execution_count": 0,
      "outputs": []
    },
    {
      "cell_type": "markdown",
      "metadata": {
        "id": "7XW1ekfwVO9l",
        "colab_type": "text"
      },
      "source": [
        "**How many rows have a capital loss and capital gain bigger than 0?** "
      ]
    },
    {
      "cell_type": "code",
      "metadata": {
        "id": "IXHRA7qAVO9o",
        "colab_type": "code",
        "colab": {}
      },
      "source": [
        ""
      ],
      "execution_count": 0,
      "outputs": []
    },
    {
      "cell_type": "markdown",
      "metadata": {
        "id": "Isk3O27rVO9s",
        "colab_type": "text"
      },
      "source": [
        "**Answer: 1**"
      ]
    },
    {
      "cell_type": "markdown",
      "metadata": {
        "id": "zEx9ltpdVO9t",
        "colab_type": "text"
      },
      "source": [
        "**Create a feature which combines capital_loss and capital_gain**"
      ]
    },
    {
      "cell_type": "code",
      "metadata": {
        "id": "XXdo0XDkVO9u",
        "colab_type": "code",
        "colab": {}
      },
      "source": [
        ""
      ],
      "execution_count": 0,
      "outputs": []
    },
    {
      "cell_type": "markdown",
      "metadata": {
        "id": "OOQqKLPYVO9x",
        "colab_type": "text"
      },
      "source": [
        "**What is the mean capital?**"
      ]
    },
    {
      "cell_type": "code",
      "metadata": {
        "id": "ejmKr-b0VO9x",
        "colab_type": "code",
        "colab": {}
      },
      "source": [
        ""
      ],
      "execution_count": 0,
      "outputs": []
    },
    {
      "cell_type": "markdown",
      "metadata": {
        "id": "e_aNkjoJVO91",
        "colab_type": "text"
      },
      "source": [
        "**What is the median capital?**"
      ]
    },
    {
      "cell_type": "code",
      "metadata": {
        "id": "62ynnH6KVO92",
        "colab_type": "code",
        "colab": {}
      },
      "source": [
        ""
      ],
      "execution_count": 0,
      "outputs": []
    },
    {
      "cell_type": "markdown",
      "metadata": {
        "id": "AD5hbT90VO95",
        "colab_type": "text"
      },
      "source": [
        "**How many people have a capital of 0?** "
      ]
    },
    {
      "cell_type": "code",
      "metadata": {
        "id": "EV2FeeWlVO97",
        "colab_type": "code",
        "colab": {}
      },
      "source": [
        ""
      ],
      "execution_count": 0,
      "outputs": []
    },
    {
      "cell_type": "markdown",
      "metadata": {
        "id": "4U8IQGjNVO9_",
        "colab_type": "text"
      },
      "source": [
        "**What is the percentage of people which make a capital gain of over 10000?**"
      ]
    },
    {
      "cell_type": "code",
      "metadata": {
        "id": "ithS7yNqVO9_",
        "colab_type": "code",
        "colab": {}
      },
      "source": [
        ""
      ],
      "execution_count": 0,
      "outputs": []
    },
    {
      "cell_type": "code",
      "metadata": {
        "id": "BFL7dlctVO-D",
        "colab_type": "code",
        "colab": {}
      },
      "source": [
        ""
      ],
      "execution_count": 0,
      "outputs": []
    },
    {
      "cell_type": "code",
      "metadata": {
        "id": "PP_YFJzGVO-H",
        "colab_type": "code",
        "colab": {}
      },
      "source": [
        ""
      ],
      "execution_count": 0,
      "outputs": []
    },
    {
      "cell_type": "markdown",
      "metadata": {
        "id": "sOogNT8iVO-M",
        "colab_type": "text"
      },
      "source": [
        "**What is the occupation of the biggest capital loss?** Q\n",
        "\n",
        "Tip: Use min() or max()"
      ]
    },
    {
      "cell_type": "code",
      "metadata": {
        "id": "i0qNVPKeVO-O",
        "colab_type": "code",
        "colab": {}
      },
      "source": [
        ""
      ],
      "execution_count": 0,
      "outputs": []
    },
    {
      "cell_type": "markdown",
      "metadata": {
        "id": "wxlkGGvjVO-S",
        "colab_type": "text"
      },
      "source": [
        "**What is the ratio between <=50K income and >50K?**"
      ]
    },
    {
      "cell_type": "code",
      "metadata": {
        "id": "DWvSkoDdVO-S",
        "colab_type": "code",
        "colab": {}
      },
      "source": [
        ""
      ],
      "execution_count": 0,
      "outputs": []
    },
    {
      "cell_type": "code",
      "metadata": {
        "id": "W7mqZYBmtnyD",
        "colab_type": "code",
        "colab": {}
      },
      "source": [
        ""
      ],
      "execution_count": 0,
      "outputs": []
    },
    {
      "cell_type": "markdown",
      "metadata": {
        "id": "_b4XOsNYVO-V",
        "colab_type": "text"
      },
      "source": [
        "**How many people with a income >50K have a \n",
        "capital loss?**"
      ]
    },
    {
      "cell_type": "code",
      "metadata": {
        "id": "KtuTbwPBVO-W",
        "colab_type": "code",
        "colab": {}
      },
      "source": [
        ""
      ],
      "execution_count": 0,
      "outputs": []
    },
    {
      "cell_type": "markdown",
      "metadata": {
        "id": "idLntvASVO-c",
        "colab_type": "text"
      },
      "source": [
        "**How manydivorced people with a income >50K have a capital gain?**"
      ]
    },
    {
      "cell_type": "code",
      "metadata": {
        "id": "lpaTGeG2VO-d",
        "colab_type": "code",
        "colab": {}
      },
      "source": [
        ""
      ],
      "execution_count": 0,
      "outputs": []
    },
    {
      "cell_type": "markdown",
      "metadata": {
        "id": "-lIk7lpOVO-h",
        "colab_type": "text"
      },
      "source": [
        "**Do a scatter plot between age and capital**"
      ]
    },
    {
      "cell_type": "code",
      "metadata": {
        "id": "-UyefLWVVO-h",
        "colab_type": "code",
        "colab": {}
      },
      "source": [
        ""
      ],
      "execution_count": 0,
      "outputs": []
    },
    {
      "cell_type": "markdown",
      "metadata": {
        "id": "I9DfmobaVO-n",
        "colab_type": "text"
      },
      "source": [
        "**This look unreadable. Calculate the average capital by age** "
      ]
    },
    {
      "cell_type": "code",
      "metadata": {
        "id": "_jsj3C8lVO-n",
        "colab_type": "code",
        "colab": {}
      },
      "source": [
        ""
      ],
      "execution_count": 0,
      "outputs": []
    },
    {
      "cell_type": "code",
      "metadata": {
        "id": "cCsB0BwOwwt9",
        "colab_type": "code",
        "colab": {}
      },
      "source": [
        ""
      ],
      "execution_count": 0,
      "outputs": []
    },
    {
      "cell_type": "markdown",
      "metadata": {
        "id": "M-_w3l_CVO-r",
        "colab_type": "text"
      },
      "source": [
        "**Calculate the correlation on the whole dataframe**"
      ]
    },
    {
      "cell_type": "code",
      "metadata": {
        "id": "9Sx2jZFlVO-s",
        "colab_type": "code",
        "colab": {}
      },
      "source": [
        ""
      ],
      "execution_count": 0,
      "outputs": []
    },
    {
      "cell_type": "markdown",
      "metadata": {
        "id": "Q5NxLJ06VO-z",
        "colab_type": "text"
      },
      "source": [
        "**Do men make more money than women?**"
      ]
    }
  ]
}