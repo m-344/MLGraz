{
  "nbformat": 4,
  "nbformat_minor": 0,
  "metadata": {
    "colab": {
      "name": "week 2 - assignment.ipynb",
      "provenance": [],
      "collapsed_sections": []
    },
    "kernelspec": {
      "name": "python3",
      "display_name": "Python 3"
    }
  },
  "cells": [
    {
      "cell_type": "markdown",
      "metadata": {
        "id": "ICEGM7KHcH9K",
        "colab_type": "text"
      },
      "source": [
        "# Assignment Week 2\n",
        "![alt text](https://secure.meetupstatic.com/photos/event/c/9/7/a/600_487911578.jpeg)\n",
        "\n",
        "Welcome to week 2!\n",
        "In this assignment, we will use our newly gained skills to answer some questions.\n",
        "[Quiz](https://forms.gle/FbhJCZfbQVvG8W3b8)\n",
        "\n",
        "\n"
      ]
    },
    {
      "cell_type": "markdown",
      "metadata": {
        "id": "G-tE_Tdobm__",
        "colab_type": "text"
      },
      "source": [
        "# Dowload Data"
      ]
    },
    {
      "cell_type": "markdown",
      "metadata": {
        "id": "ajFUSeDZcGP2",
        "colab_type": "text"
      },
      "source": [
        ""
      ]
    },
    {
      "cell_type": "code",
      "metadata": {
        "id": "8hrKHNJ3bodn",
        "colab_type": "code",
        "colab": {
          "base_uri": "https://localhost:8080/",
          "height": 212
        },
        "outputId": "dc43c35a-4dbe-43f9-a453-3a3ba01e40c2"
      },
      "source": [
        "!wget https://www.mlgraz.at/course_files/week2/spotify_mlgraz.csv"
      ],
      "execution_count": 1,
      "outputs": [
        {
          "output_type": "stream",
          "text": [
            "--2020-04-04 09:04:32--  https://www.mlgraz.at/course_files/week2/spotify_mlgraz.csv\n",
            "Resolving www.mlgraz.at (www.mlgraz.at)... 81.19.159.92\n",
            "Connecting to www.mlgraz.at (www.mlgraz.at)|81.19.159.92|:443... connected.\n",
            "HTTP request sent, awaiting response... 200 OK\n",
            "Length: 167862 (164K) [text/csv]\n",
            "Saving to: ‘spotify_mlgraz.csv’\n",
            "\n",
            "\rspotify_mlgraz.csv    0%[                    ]       0  --.-KB/s               \rspotify_mlgraz.csv   24%[===>                ]  40.00K   175KB/s               \rspotify_mlgraz.csv  100%[===================>] 163.93K   478KB/s    in 0.3s    \n",
            "\n",
            "2020-04-04 09:04:33 (478 KB/s) - ‘spotify_mlgraz.csv’ saved [167862/167862]\n",
            "\n"
          ],
          "name": "stdout"
        }
      ]
    },
    {
      "cell_type": "markdown",
      "metadata": {
        "id": "lgGgbz3Ib1fp",
        "colab_type": "text"
      },
      "source": [
        "# Load Libraries"
      ]
    },
    {
      "cell_type": "code",
      "metadata": {
        "id": "a2VbVQdgb4NE",
        "colab_type": "code",
        "colab": {}
      },
      "source": [
        "import pandas as pd"
      ],
      "execution_count": 0,
      "outputs": []
    },
    {
      "cell_type": "code",
      "metadata": {
        "id": "vBh8xUG1b5QM",
        "colab_type": "code",
        "colab": {}
      },
      "source": [
        "df = pd.read_csv(\"spotify_mlgraz.csv\")"
      ],
      "execution_count": 0,
      "outputs": []
    },
    {
      "cell_type": "code",
      "metadata": {
        "id": "9bxwMOFIb_iU",
        "colab_type": "code",
        "colab": {}
      },
      "source": [
        "df.head()"
      ],
      "execution_count": 0,
      "outputs": []
    }
  ]
}