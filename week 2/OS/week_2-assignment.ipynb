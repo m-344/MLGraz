{
  "nbformat": 4,
  "nbformat_minor": 0,
  "metadata": {
    "colab": {
      "name": "Copy of week 2 - assignment.ipynb",
      "provenance": [],
      "collapsed_sections": []
    },
    "kernelspec": {
      "name": "python3",
      "display_name": "Python 3"
    }
  },
  "cells": [
    {
      "cell_type": "markdown",
      "metadata": {
        "id": "ICEGM7KHcH9K",
        "colab_type": "text"
      },
      "source": [
        "# Assignment Week 2\n",
        "![alt text](https://secure.meetupstatic.com/photos/event/c/9/7/a/600_487911578.jpeg)\n",
        "\n",
        "Welcome to week 2!\n",
        "In this assignment, we will use our newly gained skills to answer some questions.\n",
        "[Quiz](https://forms.gle/FbhJCZfbQVvG8W3b8)\n",
        "\n",
        "\n"
      ]
    },
    {
      "cell_type": "markdown",
      "metadata": {
        "id": "G-tE_Tdobm__",
        "colab_type": "text"
      },
      "source": [
        "# Dowload Data"
      ]
    },
    {
      "cell_type": "markdown",
      "metadata": {
        "id": "ajFUSeDZcGP2",
        "colab_type": "text"
      },
      "source": [
        ""
      ]
    },
    {
      "cell_type": "code",
      "metadata": {
        "id": "8hrKHNJ3bodn",
        "colab_type": "code",
        "outputId": "39e69e1c-f45d-4d09-9835-bd6a41e8715c",
        "colab": {
          "base_uri": "https://localhost:8080/",
          "height": 210
        }
      },
      "source": [
        "!wget https://www.mlgraz.at/course_files/week2/spotify_mlgraz.csv"
      ],
      "execution_count": 0,
      "outputs": [
        {
          "output_type": "stream",
          "text": [
            "--2020-04-09 14:14:13--  https://www.mlgraz.at/course_files/week2/spotify_mlgraz.csv\n",
            "Resolving www.mlgraz.at (www.mlgraz.at)... 81.19.159.92\n",
            "Connecting to www.mlgraz.at (www.mlgraz.at)|81.19.159.92|:443... connected.\n",
            "HTTP request sent, awaiting response... 200 OK\n",
            "Length: 167862 (164K) [text/csv]\n",
            "Saving to: ‘spotify_mlgraz.csv’\n",
            "\n",
            "spotify_mlgraz.csv  100%[===================>] 163.93K   477KB/s    in 0.3s    \n",
            "\n",
            "2020-04-09 14:14:14 (477 KB/s) - ‘spotify_mlgraz.csv’ saved [167862/167862]\n",
            "\n"
          ],
          "name": "stdout"
        }
      ]
    },
    {
      "cell_type": "markdown",
      "metadata": {
        "id": "lgGgbz3Ib1fp",
        "colab_type": "text"
      },
      "source": [
        "# Load Libraries"
      ]
    },
    {
      "cell_type": "code",
      "metadata": {
        "id": "a2VbVQdgb4NE",
        "colab_type": "code",
        "colab": {}
      },
      "source": [
        "import pandas as pd"
      ],
      "execution_count": 0,
      "outputs": []
    },
    {
      "cell_type": "code",
      "metadata": {
        "id": "vBh8xUG1b5QM",
        "colab_type": "code",
        "colab": {}
      },
      "source": [
        "df = pd.read_csv(\"spotify_mlgraz.csv\")"
      ],
      "execution_count": 0,
      "outputs": []
    },
    {
      "cell_type": "code",
      "metadata": {
        "id": "9bxwMOFIb_iU",
        "colab_type": "code",
        "outputId": "cd8e3e38-9899-4cfe-8ca6-0262f8103691",
        "colab": {
          "base_uri": "https://localhost:8080/",
          "height": 237
        }
      },
      "source": [
        "df.head()"
      ],
      "execution_count": 0,
      "outputs": [
        {
          "output_type": "execute_result",
          "data": {
            "text/html": [
              "<div>\n",
              "<style scoped>\n",
              "    .dataframe tbody tr th:only-of-type {\n",
              "        vertical-align: middle;\n",
              "    }\n",
              "\n",
              "    .dataframe tbody tr th {\n",
              "        vertical-align: top;\n",
              "    }\n",
              "\n",
              "    .dataframe thead th {\n",
              "        text-align: right;\n",
              "    }\n",
              "</style>\n",
              "<table border=\"1\" class=\"dataframe\">\n",
              "  <thead>\n",
              "    <tr style=\"text-align: right;\">\n",
              "      <th></th>\n",
              "      <th>Index</th>\n",
              "      <th>Title</th>\n",
              "      <th>Artist</th>\n",
              "      <th>Genre</th>\n",
              "      <th>Year</th>\n",
              "      <th>BPM</th>\n",
              "      <th>Energy</th>\n",
              "      <th>Danceability</th>\n",
              "      <th>dB</th>\n",
              "      <th>Liveness</th>\n",
              "      <th>Valence</th>\n",
              "      <th>Length</th>\n",
              "      <th>Acousticness</th>\n",
              "      <th>Speechiness</th>\n",
              "      <th>Popularity</th>\n",
              "    </tr>\n",
              "  </thead>\n",
              "  <tbody>\n",
              "    <tr>\n",
              "      <th>0</th>\n",
              "      <td>1</td>\n",
              "      <td>Sunrise</td>\n",
              "      <td>Norah Jones</td>\n",
              "      <td>adult standards</td>\n",
              "      <td>2004</td>\n",
              "      <td>157</td>\n",
              "      <td>30</td>\n",
              "      <td>53</td>\n",
              "      <td>-14</td>\n",
              "      <td>11</td>\n",
              "      <td>68</td>\n",
              "      <td>201</td>\n",
              "      <td>94</td>\n",
              "      <td>3</td>\n",
              "      <td>71</td>\n",
              "    </tr>\n",
              "    <tr>\n",
              "      <th>1</th>\n",
              "      <td>2</td>\n",
              "      <td>Black Night</td>\n",
              "      <td>Deep Purple</td>\n",
              "      <td>album rock</td>\n",
              "      <td>2000</td>\n",
              "      <td>135</td>\n",
              "      <td>79</td>\n",
              "      <td>50</td>\n",
              "      <td>-11</td>\n",
              "      <td>17</td>\n",
              "      <td>81</td>\n",
              "      <td>207</td>\n",
              "      <td>17</td>\n",
              "      <td>7</td>\n",
              "      <td>39</td>\n",
              "    </tr>\n",
              "    <tr>\n",
              "      <th>2</th>\n",
              "      <td>3</td>\n",
              "      <td>Clint Eastwood</td>\n",
              "      <td>Gorillaz</td>\n",
              "      <td>alternative hip hop</td>\n",
              "      <td>2001</td>\n",
              "      <td>168</td>\n",
              "      <td>69</td>\n",
              "      <td>66</td>\n",
              "      <td>-9</td>\n",
              "      <td>7</td>\n",
              "      <td>52</td>\n",
              "      <td>341</td>\n",
              "      <td>2</td>\n",
              "      <td>17</td>\n",
              "      <td>69</td>\n",
              "    </tr>\n",
              "    <tr>\n",
              "      <th>3</th>\n",
              "      <td>4</td>\n",
              "      <td>The Pretender</td>\n",
              "      <td>Foo Fighters</td>\n",
              "      <td>alternative metal</td>\n",
              "      <td>2007</td>\n",
              "      <td>173</td>\n",
              "      <td>96</td>\n",
              "      <td>43</td>\n",
              "      <td>-4</td>\n",
              "      <td>3</td>\n",
              "      <td>37</td>\n",
              "      <td>269</td>\n",
              "      <td>0</td>\n",
              "      <td>4</td>\n",
              "      <td>76</td>\n",
              "    </tr>\n",
              "    <tr>\n",
              "      <th>4</th>\n",
              "      <td>5</td>\n",
              "      <td>Waitin' On A Sunny Day</td>\n",
              "      <td>Bruce Springsteen</td>\n",
              "      <td>classic rock</td>\n",
              "      <td>2002</td>\n",
              "      <td>106</td>\n",
              "      <td>82</td>\n",
              "      <td>58</td>\n",
              "      <td>-5</td>\n",
              "      <td>10</td>\n",
              "      <td>87</td>\n",
              "      <td>256</td>\n",
              "      <td>1</td>\n",
              "      <td>3</td>\n",
              "      <td>59</td>\n",
              "    </tr>\n",
              "  </tbody>\n",
              "</table>\n",
              "</div>"
            ],
            "text/plain": [
              "   Index                   Title  ... Speechiness Popularity\n",
              "0      1                 Sunrise  ...           3         71\n",
              "1      2             Black Night  ...           7         39\n",
              "2      3          Clint Eastwood  ...          17         69\n",
              "3      4           The Pretender  ...           4         76\n",
              "4      5  Waitin' On A Sunny Day  ...           3         59\n",
              "\n",
              "[5 rows x 15 columns]"
            ]
          },
          "metadata": {
            "tags": []
          },
          "execution_count": 4
        }
      ]
    },
    {
      "cell_type": "code",
      "metadata": {
        "id": "7OmT-8AdS3d5",
        "colab_type": "code",
        "outputId": "76aa66c0-8ab7-4eda-ad70-54e5349708ab",
        "colab": {
          "base_uri": "https://localhost:8080/",
          "height": 34
        }
      },
      "source": [
        "df.shape"
      ],
      "execution_count": 0,
      "outputs": [
        {
          "output_type": "execute_result",
          "data": {
            "text/plain": [
              "(1994, 15)"
            ]
          },
          "metadata": {
            "tags": []
          },
          "execution_count": 6
        }
      ]
    },
    {
      "cell_type": "code",
      "metadata": {
        "id": "IeSadD5pS-M2",
        "colab_type": "code",
        "outputId": "b54804f8-a582-4d88-f403-9fcc3a9e4667",
        "colab": {
          "base_uri": "https://localhost:8080/",
          "height": 298
        }
      },
      "source": [
        "df.isna().sum()"
      ],
      "execution_count": 0,
      "outputs": [
        {
          "output_type": "execute_result",
          "data": {
            "text/plain": [
              "Index           0\n",
              "Title           0\n",
              "Artist          0\n",
              "Genre           0\n",
              "Year            0\n",
              "BPM             0\n",
              "Energy          0\n",
              "Danceability    0\n",
              "dB              0\n",
              "Liveness        0\n",
              "Valence         0\n",
              "Length          0\n",
              "Acousticness    0\n",
              "Speechiness     0\n",
              "Popularity      0\n",
              "dtype: int64"
            ]
          },
          "metadata": {
            "tags": []
          },
          "execution_count": 17
        }
      ]
    },
    {
      "cell_type": "code",
      "metadata": {
        "id": "-XPwdh_STSpX",
        "colab_type": "code",
        "outputId": "4e626ad3-9cf5-4b4a-bd0f-c7a40cdeb6e6",
        "colab": {
          "base_uri": "https://localhost:8080/",
          "height": 228
        }
      },
      "source": [
        "df.Artist.drop_duplicates()\n"
      ],
      "execution_count": 0,
      "outputs": [
        {
          "output_type": "execute_result",
          "data": {
            "text/plain": [
              "0                    Norah Jones\n",
              "1                    Deep Purple\n",
              "2                       Gorillaz\n",
              "3                   Foo Fighters\n",
              "4              Bruce Springsteen\n",
              "                  ...           \n",
              "1982                  Rare Earth\n",
              "1984       Crosby, Stills & Nash\n",
              "1991                 Chuck Berry\n",
              "1992    The Dave Brubeck Quartet\n",
              "1993                 Fats Domino\n",
              "Name: Artist, Length: 731, dtype: object"
            ]
          },
          "metadata": {
            "tags": []
          },
          "execution_count": 13
        }
      ]
    },
    {
      "cell_type": "code",
      "metadata": {
        "id": "RFRJ_mlkT0Le",
        "colab_type": "code",
        "outputId": "26bef3c2-9df3-4a2d-c533-c3efcccb6535",
        "colab": {
          "base_uri": "https://localhost:8080/",
          "height": 228
        }
      },
      "source": [
        "df.Artist"
      ],
      "execution_count": 0,
      "outputs": [
        {
          "output_type": "execute_result",
          "data": {
            "text/plain": [
              "0                    Norah Jones\n",
              "1                    Deep Purple\n",
              "2                       Gorillaz\n",
              "3                   Foo Fighters\n",
              "4              Bruce Springsteen\n",
              "                  ...           \n",
              "1989               Elvis Presley\n",
              "1990               Elvis Presley\n",
              "1991                 Chuck Berry\n",
              "1992    The Dave Brubeck Quartet\n",
              "1993                 Fats Domino\n",
              "Name: Artist, Length: 1994, dtype: object"
            ]
          },
          "metadata": {
            "tags": []
          },
          "execution_count": 14
        }
      ]
    },
    {
      "cell_type": "code",
      "metadata": {
        "id": "RelLOB9UUObF",
        "colab_type": "code",
        "outputId": "187fcfef-bd94-4ec1-b603-fcd02ce7d060",
        "colab": {
          "base_uri": "https://localhost:8080/",
          "height": 34
        }
      },
      "source": [
        "df.Genre[df.Genre == \"austro pop\"]\n"
      ],
      "execution_count": 0,
      "outputs": [
        {
          "output_type": "execute_result",
          "data": {
            "text/plain": [
              "Series([], Name: Genre, dtype: object)"
            ]
          },
          "metadata": {
            "tags": []
          },
          "execution_count": 31
        }
      ]
    },
    {
      "cell_type": "code",
      "metadata": {
        "id": "eYNjY2EiUqad",
        "colab_type": "code",
        "colab": {}
      },
      "source": [
        "test = df.Popularity.max()"
      ],
      "execution_count": 0,
      "outputs": []
    },
    {
      "cell_type": "code",
      "metadata": {
        "id": "gNcPAZMvU79N",
        "colab_type": "code",
        "outputId": "a45cd110-34d6-4875-cb51-91ea82bd309e",
        "colab": {
          "base_uri": "https://localhost:8080/",
          "height": 52
        }
      },
      "source": [
        "df[df.Length == df.Length.max()].Title\n",
        "\n"
      ],
      "execution_count": 0,
      "outputs": [
        {
          "output_type": "execute_result",
          "data": {
            "text/plain": [
              "842    Echoes\n",
              "Name: Title, dtype: object"
            ]
          },
          "metadata": {
            "tags": []
          },
          "execution_count": 25
        }
      ]
    },
    {
      "cell_type": "code",
      "metadata": {
        "id": "uz1umDEzU80N",
        "colab_type": "code",
        "colab": {}
      },
      "source": [
        "correlation = df.corr()"
      ],
      "execution_count": 0,
      "outputs": []
    },
    {
      "cell_type": "code",
      "metadata": {
        "id": "rqyKiM9ZWj52",
        "colab_type": "code",
        "outputId": "84f784af-7934-4d34-9f7f-b88a350780bb",
        "colab": {
          "base_uri": "https://localhost:8080/",
          "height": 420
        }
      },
      "source": [
        "correlation"
      ],
      "execution_count": 0,
      "outputs": [
        {
          "output_type": "execute_result",
          "data": {
            "text/html": [
              "<div>\n",
              "<style scoped>\n",
              "    .dataframe tbody tr th:only-of-type {\n",
              "        vertical-align: middle;\n",
              "    }\n",
              "\n",
              "    .dataframe tbody tr th {\n",
              "        vertical-align: top;\n",
              "    }\n",
              "\n",
              "    .dataframe thead th {\n",
              "        text-align: right;\n",
              "    }\n",
              "</style>\n",
              "<table border=\"1\" class=\"dataframe\">\n",
              "  <thead>\n",
              "    <tr style=\"text-align: right;\">\n",
              "      <th></th>\n",
              "      <th>Index</th>\n",
              "      <th>Year</th>\n",
              "      <th>BPM</th>\n",
              "      <th>Energy</th>\n",
              "      <th>Danceability</th>\n",
              "      <th>dB</th>\n",
              "      <th>Liveness</th>\n",
              "      <th>Valence</th>\n",
              "      <th>Length</th>\n",
              "      <th>Acousticness</th>\n",
              "      <th>Speechiness</th>\n",
              "      <th>Popularity</th>\n",
              "    </tr>\n",
              "  </thead>\n",
              "  <tbody>\n",
              "    <tr>\n",
              "      <th>Index</th>\n",
              "      <td>1.000000</td>\n",
              "      <td>-0.607910</td>\n",
              "      <td>-0.048918</td>\n",
              "      <td>-0.114307</td>\n",
              "      <td>-0.047156</td>\n",
              "      <td>-0.260179</td>\n",
              "      <td>-0.027125</td>\n",
              "      <td>0.063304</td>\n",
              "      <td>0.023928</td>\n",
              "      <td>0.057346</td>\n",
              "      <td>-0.050991</td>\n",
              "      <td>0.087442</td>\n",
              "    </tr>\n",
              "    <tr>\n",
              "      <th>Year</th>\n",
              "      <td>-0.607910</td>\n",
              "      <td>1.000000</td>\n",
              "      <td>0.012570</td>\n",
              "      <td>0.147235</td>\n",
              "      <td>0.077493</td>\n",
              "      <td>0.343764</td>\n",
              "      <td>0.019017</td>\n",
              "      <td>-0.166163</td>\n",
              "      <td>-0.050743</td>\n",
              "      <td>-0.132946</td>\n",
              "      <td>0.054097</td>\n",
              "      <td>-0.158962</td>\n",
              "    </tr>\n",
              "    <tr>\n",
              "      <th>BPM</th>\n",
              "      <td>-0.048918</td>\n",
              "      <td>0.012570</td>\n",
              "      <td>1.000000</td>\n",
              "      <td>0.156644</td>\n",
              "      <td>-0.140602</td>\n",
              "      <td>0.092927</td>\n",
              "      <td>0.016256</td>\n",
              "      <td>0.059653</td>\n",
              "      <td>0.005543</td>\n",
              "      <td>-0.122472</td>\n",
              "      <td>0.085598</td>\n",
              "      <td>-0.003181</td>\n",
              "    </tr>\n",
              "    <tr>\n",
              "      <th>Energy</th>\n",
              "      <td>-0.114307</td>\n",
              "      <td>0.147235</td>\n",
              "      <td>0.156644</td>\n",
              "      <td>1.000000</td>\n",
              "      <td>0.139616</td>\n",
              "      <td>0.735711</td>\n",
              "      <td>0.174118</td>\n",
              "      <td>0.405175</td>\n",
              "      <td>0.022701</td>\n",
              "      <td>-0.665156</td>\n",
              "      <td>0.205865</td>\n",
              "      <td>0.103393</td>\n",
              "    </tr>\n",
              "    <tr>\n",
              "      <th>Danceability</th>\n",
              "      <td>-0.047156</td>\n",
              "      <td>0.077493</td>\n",
              "      <td>-0.140602</td>\n",
              "      <td>0.139616</td>\n",
              "      <td>1.000000</td>\n",
              "      <td>0.044235</td>\n",
              "      <td>-0.103063</td>\n",
              "      <td>0.514564</td>\n",
              "      <td>-0.135786</td>\n",
              "      <td>-0.135769</td>\n",
              "      <td>0.125229</td>\n",
              "      <td>0.144344</td>\n",
              "    </tr>\n",
              "    <tr>\n",
              "      <th>dB</th>\n",
              "      <td>-0.260179</td>\n",
              "      <td>0.343764</td>\n",
              "      <td>0.092927</td>\n",
              "      <td>0.735711</td>\n",
              "      <td>0.044235</td>\n",
              "      <td>1.000000</td>\n",
              "      <td>0.098257</td>\n",
              "      <td>0.147041</td>\n",
              "      <td>-0.056129</td>\n",
              "      <td>-0.451635</td>\n",
              "      <td>0.125090</td>\n",
              "      <td>0.165527</td>\n",
              "    </tr>\n",
              "    <tr>\n",
              "      <th>Liveness</th>\n",
              "      <td>-0.027125</td>\n",
              "      <td>0.019017</td>\n",
              "      <td>0.016256</td>\n",
              "      <td>0.174118</td>\n",
              "      <td>-0.103063</td>\n",
              "      <td>0.098257</td>\n",
              "      <td>1.000000</td>\n",
              "      <td>0.050667</td>\n",
              "      <td>0.032985</td>\n",
              "      <td>-0.046206</td>\n",
              "      <td>0.092594</td>\n",
              "      <td>-0.111978</td>\n",
              "    </tr>\n",
              "    <tr>\n",
              "      <th>Valence</th>\n",
              "      <td>0.063304</td>\n",
              "      <td>-0.166163</td>\n",
              "      <td>0.059653</td>\n",
              "      <td>0.405175</td>\n",
              "      <td>0.514564</td>\n",
              "      <td>0.147041</td>\n",
              "      <td>0.050667</td>\n",
              "      <td>1.000000</td>\n",
              "      <td>-0.203213</td>\n",
              "      <td>-0.239729</td>\n",
              "      <td>0.107102</td>\n",
              "      <td>0.095911</td>\n",
              "    </tr>\n",
              "    <tr>\n",
              "      <th>Length</th>\n",
              "      <td>0.023928</td>\n",
              "      <td>-0.050743</td>\n",
              "      <td>0.005543</td>\n",
              "      <td>0.022701</td>\n",
              "      <td>-0.135786</td>\n",
              "      <td>-0.056129</td>\n",
              "      <td>0.032985</td>\n",
              "      <td>-0.203213</td>\n",
              "      <td>1.000000</td>\n",
              "      <td>-0.101871</td>\n",
              "      <td>-0.027585</td>\n",
              "      <td>-0.065521</td>\n",
              "    </tr>\n",
              "    <tr>\n",
              "      <th>Acousticness</th>\n",
              "      <td>0.057346</td>\n",
              "      <td>-0.132946</td>\n",
              "      <td>-0.122472</td>\n",
              "      <td>-0.665156</td>\n",
              "      <td>-0.135769</td>\n",
              "      <td>-0.451635</td>\n",
              "      <td>-0.046206</td>\n",
              "      <td>-0.239729</td>\n",
              "      <td>-0.101871</td>\n",
              "      <td>1.000000</td>\n",
              "      <td>-0.098256</td>\n",
              "      <td>-0.087604</td>\n",
              "    </tr>\n",
              "    <tr>\n",
              "      <th>Speechiness</th>\n",
              "      <td>-0.050991</td>\n",
              "      <td>0.054097</td>\n",
              "      <td>0.085598</td>\n",
              "      <td>0.205865</td>\n",
              "      <td>0.125229</td>\n",
              "      <td>0.125090</td>\n",
              "      <td>0.092594</td>\n",
              "      <td>0.107102</td>\n",
              "      <td>-0.027585</td>\n",
              "      <td>-0.098256</td>\n",
              "      <td>1.000000</td>\n",
              "      <td>0.111689</td>\n",
              "    </tr>\n",
              "    <tr>\n",
              "      <th>Popularity</th>\n",
              "      <td>0.087442</td>\n",
              "      <td>-0.158962</td>\n",
              "      <td>-0.003181</td>\n",
              "      <td>0.103393</td>\n",
              "      <td>0.144344</td>\n",
              "      <td>0.165527</td>\n",
              "      <td>-0.111978</td>\n",
              "      <td>0.095911</td>\n",
              "      <td>-0.065521</td>\n",
              "      <td>-0.087604</td>\n",
              "      <td>0.111689</td>\n",
              "      <td>1.000000</td>\n",
              "    </tr>\n",
              "  </tbody>\n",
              "</table>\n",
              "</div>"
            ],
            "text/plain": [
              "                 Index      Year  ...  Speechiness  Popularity\n",
              "Index         1.000000 -0.607910  ...    -0.050991    0.087442\n",
              "Year         -0.607910  1.000000  ...     0.054097   -0.158962\n",
              "BPM          -0.048918  0.012570  ...     0.085598   -0.003181\n",
              "Energy       -0.114307  0.147235  ...     0.205865    0.103393\n",
              "Danceability -0.047156  0.077493  ...     0.125229    0.144344\n",
              "dB           -0.260179  0.343764  ...     0.125090    0.165527\n",
              "Liveness     -0.027125  0.019017  ...     0.092594   -0.111978\n",
              "Valence       0.063304 -0.166163  ...     0.107102    0.095911\n",
              "Length        0.023928 -0.050743  ...    -0.027585   -0.065521\n",
              "Acousticness  0.057346 -0.132946  ...    -0.098256   -0.087604\n",
              "Speechiness  -0.050991  0.054097  ...     1.000000    0.111689\n",
              "Popularity    0.087442 -0.158962  ...     0.111689    1.000000\n",
              "\n",
              "[12 rows x 12 columns]"
            ]
          },
          "metadata": {
            "tags": []
          },
          "execution_count": 34
        }
      ]
    },
    {
      "cell_type": "code",
      "metadata": {
        "id": "DH7mtJfmW0zs",
        "colab_type": "code",
        "outputId": "a263ce8a-1bb6-4f2f-e62f-e68105b8e0b8",
        "colab": {
          "base_uri": "https://localhost:8080/",
          "height": 34
        }
      },
      "source": [
        "correlation.shape"
      ],
      "execution_count": 0,
      "outputs": [
        {
          "output_type": "execute_result",
          "data": {
            "text/plain": [
              "(12, 12)"
            ]
          },
          "metadata": {
            "tags": []
          },
          "execution_count": 35
        }
      ]
    },
    {
      "cell_type": "code",
      "metadata": {
        "id": "Eo4F-okiW4ic",
        "colab_type": "code",
        "outputId": "01851638-5324-4a03-f064-ed83abc4358b",
        "colab": {
          "base_uri": "https://localhost:8080/",
          "height": 237
        }
      },
      "source": [
        "df.head()"
      ],
      "execution_count": 0,
      "outputs": [
        {
          "output_type": "execute_result",
          "data": {
            "text/html": [
              "<div>\n",
              "<style scoped>\n",
              "    .dataframe tbody tr th:only-of-type {\n",
              "        vertical-align: middle;\n",
              "    }\n",
              "\n",
              "    .dataframe tbody tr th {\n",
              "        vertical-align: top;\n",
              "    }\n",
              "\n",
              "    .dataframe thead th {\n",
              "        text-align: right;\n",
              "    }\n",
              "</style>\n",
              "<table border=\"1\" class=\"dataframe\">\n",
              "  <thead>\n",
              "    <tr style=\"text-align: right;\">\n",
              "      <th></th>\n",
              "      <th>Index</th>\n",
              "      <th>Title</th>\n",
              "      <th>Artist</th>\n",
              "      <th>Genre</th>\n",
              "      <th>Year</th>\n",
              "      <th>BPM</th>\n",
              "      <th>Energy</th>\n",
              "      <th>Danceability</th>\n",
              "      <th>dB</th>\n",
              "      <th>Liveness</th>\n",
              "      <th>Valence</th>\n",
              "      <th>Length</th>\n",
              "      <th>Acousticness</th>\n",
              "      <th>Speechiness</th>\n",
              "      <th>Popularity</th>\n",
              "    </tr>\n",
              "  </thead>\n",
              "  <tbody>\n",
              "    <tr>\n",
              "      <th>0</th>\n",
              "      <td>1</td>\n",
              "      <td>Sunrise</td>\n",
              "      <td>Norah Jones</td>\n",
              "      <td>adult standards</td>\n",
              "      <td>2004</td>\n",
              "      <td>157</td>\n",
              "      <td>30</td>\n",
              "      <td>53</td>\n",
              "      <td>-14</td>\n",
              "      <td>11</td>\n",
              "      <td>68</td>\n",
              "      <td>201</td>\n",
              "      <td>94</td>\n",
              "      <td>3</td>\n",
              "      <td>71</td>\n",
              "    </tr>\n",
              "    <tr>\n",
              "      <th>1</th>\n",
              "      <td>2</td>\n",
              "      <td>Black Night</td>\n",
              "      <td>Deep Purple</td>\n",
              "      <td>album rock</td>\n",
              "      <td>2000</td>\n",
              "      <td>135</td>\n",
              "      <td>79</td>\n",
              "      <td>50</td>\n",
              "      <td>-11</td>\n",
              "      <td>17</td>\n",
              "      <td>81</td>\n",
              "      <td>207</td>\n",
              "      <td>17</td>\n",
              "      <td>7</td>\n",
              "      <td>39</td>\n",
              "    </tr>\n",
              "    <tr>\n",
              "      <th>2</th>\n",
              "      <td>3</td>\n",
              "      <td>Clint Eastwood</td>\n",
              "      <td>Gorillaz</td>\n",
              "      <td>alternative hip hop</td>\n",
              "      <td>2001</td>\n",
              "      <td>168</td>\n",
              "      <td>69</td>\n",
              "      <td>66</td>\n",
              "      <td>-9</td>\n",
              "      <td>7</td>\n",
              "      <td>52</td>\n",
              "      <td>341</td>\n",
              "      <td>2</td>\n",
              "      <td>17</td>\n",
              "      <td>69</td>\n",
              "    </tr>\n",
              "    <tr>\n",
              "      <th>3</th>\n",
              "      <td>4</td>\n",
              "      <td>The Pretender</td>\n",
              "      <td>Foo Fighters</td>\n",
              "      <td>alternative metal</td>\n",
              "      <td>2007</td>\n",
              "      <td>173</td>\n",
              "      <td>96</td>\n",
              "      <td>43</td>\n",
              "      <td>-4</td>\n",
              "      <td>3</td>\n",
              "      <td>37</td>\n",
              "      <td>269</td>\n",
              "      <td>0</td>\n",
              "      <td>4</td>\n",
              "      <td>76</td>\n",
              "    </tr>\n",
              "    <tr>\n",
              "      <th>4</th>\n",
              "      <td>5</td>\n",
              "      <td>Waitin' On A Sunny Day</td>\n",
              "      <td>Bruce Springsteen</td>\n",
              "      <td>classic rock</td>\n",
              "      <td>2002</td>\n",
              "      <td>106</td>\n",
              "      <td>82</td>\n",
              "      <td>58</td>\n",
              "      <td>-5</td>\n",
              "      <td>10</td>\n",
              "      <td>87</td>\n",
              "      <td>256</td>\n",
              "      <td>1</td>\n",
              "      <td>3</td>\n",
              "      <td>59</td>\n",
              "    </tr>\n",
              "  </tbody>\n",
              "</table>\n",
              "</div>"
            ],
            "text/plain": [
              "   Index                   Title  ... Speechiness Popularity\n",
              "0      1                 Sunrise  ...           3         71\n",
              "1      2             Black Night  ...           7         39\n",
              "2      3          Clint Eastwood  ...          17         69\n",
              "3      4           The Pretender  ...           4         76\n",
              "4      5  Waitin' On A Sunny Day  ...           3         59\n",
              "\n",
              "[5 rows x 15 columns]"
            ]
          },
          "metadata": {
            "tags": []
          },
          "execution_count": 38
        }
      ]
    },
    {
      "cell_type": "code",
      "metadata": {
        "id": "rkFplbZ8XCXU",
        "colab_type": "code",
        "outputId": "b911b812-d891-4a4f-d8c0-98709f5e7206",
        "colab": {
          "base_uri": "https://localhost:8080/",
          "height": 34
        }
      },
      "source": [
        "df[df.Artist == \"The Rolling Stones\"].Title.shape"
      ],
      "execution_count": 0,
      "outputs": [
        {
          "output_type": "execute_result",
          "data": {
            "text/plain": [
              "(24,)"
            ]
          },
          "metadata": {
            "tags": []
          },
          "execution_count": 48
        }
      ]
    },
    {
      "cell_type": "code",
      "metadata": {
        "id": "I2fPt0eDXYtE",
        "colab_type": "code",
        "outputId": "cf0d8178-e7ad-4909-933d-866fe4c6789e",
        "colab": {
          "base_uri": "https://localhost:8080/",
          "height": 34
        }
      },
      "source": [
        "df.BPM.mean()"
      ],
      "execution_count": 0,
      "outputs": [
        {
          "output_type": "execute_result",
          "data": {
            "text/plain": [
              "120.21564694082247"
            ]
          },
          "metadata": {
            "tags": []
          },
          "execution_count": 49
        }
      ]
    },
    {
      "cell_type": "code",
      "metadata": {
        "id": "8-T38wGlYJQ-",
        "colab_type": "code",
        "outputId": "e86e2b39-3457-4691-d5ab-6431bce47553",
        "colab": {
          "base_uri": "https://localhost:8080/",
          "height": 34
        }
      },
      "source": [
        "df[df.Artist == \"Queen\"].Energy.mean()"
      ],
      "execution_count": 0,
      "outputs": [
        {
          "output_type": "execute_result",
          "data": {
            "text/plain": [
              "62.729729729729726"
            ]
          },
          "metadata": {
            "tags": []
          },
          "execution_count": 53
        }
      ]
    },
    {
      "cell_type": "code",
      "metadata": {
        "id": "awZBljv0YQ_D",
        "colab_type": "code",
        "colab": {}
      },
      "source": [
        "all_songs = df.shape[0]"
      ],
      "execution_count": 0,
      "outputs": []
    },
    {
      "cell_type": "code",
      "metadata": {
        "id": "xp_H1rfJYreK",
        "colab_type": "code",
        "outputId": "4b5b12a7-69b0-4f4e-c127-f61687bba950",
        "colab": {
          "base_uri": "https://localhost:8080/",
          "height": 34
        }
      },
      "source": [
        "all_songs"
      ],
      "execution_count": 0,
      "outputs": [
        {
          "output_type": "execute_result",
          "data": {
            "text/plain": [
              "1994"
            ]
          },
          "metadata": {
            "tags": []
          },
          "execution_count": 55
        }
      ]
    },
    {
      "cell_type": "code",
      "metadata": {
        "id": "cH-D9X4PYsO6",
        "colab_type": "code",
        "colab": {}
      },
      "source": [
        "before_2000 = df[df.Year < 2000].shape[0]"
      ],
      "execution_count": 0,
      "outputs": []
    },
    {
      "cell_type": "code",
      "metadata": {
        "id": "6PjM4flhY3Rq",
        "colab_type": "code",
        "outputId": "b287c6e4-8bb7-4dd6-9b6f-981207ada82f",
        "colab": {
          "base_uri": "https://localhost:8080/",
          "height": 34
        }
      },
      "source": [
        "before_2000"
      ],
      "execution_count": 0,
      "outputs": [
        {
          "output_type": "execute_result",
          "data": {
            "text/plain": [
              "1195"
            ]
          },
          "metadata": {
            "tags": []
          },
          "execution_count": 59
        }
      ]
    },
    {
      "cell_type": "code",
      "metadata": {
        "id": "UMKUXxZoY5bz",
        "colab_type": "code",
        "outputId": "73c67696-64d4-4577-b1a2-cf196ecfc8f8",
        "colab": {
          "base_uri": "https://localhost:8080/",
          "height": 34
        }
      },
      "source": [
        "before_2000 / all_songs"
      ],
      "execution_count": 0,
      "outputs": [
        {
          "output_type": "execute_result",
          "data": {
            "text/plain": [
              "0.5992978936810431"
            ]
          },
          "metadata": {
            "tags": []
          },
          "execution_count": 62
        }
      ]
    },
    {
      "cell_type": "code",
      "metadata": {
        "id": "soKSt9eUY_xj",
        "colab_type": "code",
        "colab": {}
      },
      "source": [
        "BeatlesSongs = df[(df.Artist == \"The Beatles\")]"
      ],
      "execution_count": 0,
      "outputs": []
    },
    {
      "cell_type": "code",
      "metadata": {
        "id": "P-Af6VqsZM9S",
        "colab_type": "code",
        "outputId": "18845fb2-4db9-40da-8456-2a65fe220559",
        "colab": {
          "base_uri": "https://localhost:8080/",
          "height": 52
        }
      },
      "source": [
        "BeatlesSongs[BeatlesSongs.Popularity == BeatlesSongs.Popularity.min()].Title"
      ],
      "execution_count": 0,
      "outputs": [
        {
          "output_type": "execute_result",
          "data": {
            "text/plain": [
              "1889    Penny Lane\n",
              "Name: Title, dtype: object"
            ]
          },
          "metadata": {
            "tags": []
          },
          "execution_count": 66
        }
      ]
    },
    {
      "cell_type": "code",
      "metadata": {
        "id": "-TWqDxE9Zl-x",
        "colab_type": "code",
        "outputId": "acae7fb8-8d00-45af-e41d-612a9dd8acd8",
        "colab": {
          "base_uri": "https://localhost:8080/",
          "height": 34
        }
      },
      "source": [
        "df[(df.Year == 1985) & (df.Energy == 66)].Speechiness.mean()"
      ],
      "execution_count": 0,
      "outputs": [
        {
          "output_type": "execute_result",
          "data": {
            "text/plain": [
              "4.0"
            ]
          },
          "metadata": {
            "tags": []
          },
          "execution_count": 70
        }
      ]
    },
    {
      "cell_type": "code",
      "metadata": {
        "id": "Fz5oNTPyZ0BK",
        "colab_type": "code",
        "outputId": "7c27e4c3-b59a-4bbf-b2ae-1b480c5091a3",
        "colab": {
          "base_uri": "https://localhost:8080/",
          "height": 141
        }
      },
      "source": [
        "df[(df.Year == 1985) & (df.Energy == 66)]"
      ],
      "execution_count": 0,
      "outputs": [
        {
          "output_type": "execute_result",
          "data": {
            "text/html": [
              "<div>\n",
              "<style scoped>\n",
              "    .dataframe tbody tr th:only-of-type {\n",
              "        vertical-align: middle;\n",
              "    }\n",
              "\n",
              "    .dataframe tbody tr th {\n",
              "        vertical-align: top;\n",
              "    }\n",
              "\n",
              "    .dataframe thead th {\n",
              "        text-align: right;\n",
              "    }\n",
              "</style>\n",
              "<table border=\"1\" class=\"dataframe\">\n",
              "  <thead>\n",
              "    <tr style=\"text-align: right;\">\n",
              "      <th></th>\n",
              "      <th>Index</th>\n",
              "      <th>Title</th>\n",
              "      <th>Artist</th>\n",
              "      <th>Genre</th>\n",
              "      <th>Year</th>\n",
              "      <th>BPM</th>\n",
              "      <th>Energy</th>\n",
              "      <th>Danceability</th>\n",
              "      <th>dB</th>\n",
              "      <th>Liveness</th>\n",
              "      <th>Valence</th>\n",
              "      <th>Length</th>\n",
              "      <th>Acousticness</th>\n",
              "      <th>Speechiness</th>\n",
              "      <th>Popularity</th>\n",
              "    </tr>\n",
              "  </thead>\n",
              "  <tbody>\n",
              "    <tr>\n",
              "      <th>1311</th>\n",
              "      <td>1312</td>\n",
              "      <td>Jeanny</td>\n",
              "      <td>Falco</td>\n",
              "      <td>austropop</td>\n",
              "      <td>1985</td>\n",
              "      <td>106</td>\n",
              "      <td>66</td>\n",
              "      <td>65</td>\n",
              "      <td>-10</td>\n",
              "      <td>19</td>\n",
              "      <td>45</td>\n",
              "      <td>356</td>\n",
              "      <td>45</td>\n",
              "      <td>5</td>\n",
              "      <td>58</td>\n",
              "    </tr>\n",
              "    <tr>\n",
              "      <th>1312</th>\n",
              "      <td>1313</td>\n",
              "      <td>Money for Nothing</td>\n",
              "      <td>Dire Straits</td>\n",
              "      <td>album rock</td>\n",
              "      <td>1985</td>\n",
              "      <td>134</td>\n",
              "      <td>66</td>\n",
              "      <td>67</td>\n",
              "      <td>-9</td>\n",
              "      <td>6</td>\n",
              "      <td>66</td>\n",
              "      <td>506</td>\n",
              "      <td>5</td>\n",
              "      <td>4</td>\n",
              "      <td>62</td>\n",
              "    </tr>\n",
              "    <tr>\n",
              "      <th>1322</th>\n",
              "      <td>1323</td>\n",
              "      <td>Nikita</td>\n",
              "      <td>Elton John</td>\n",
              "      <td>glam rock</td>\n",
              "      <td>1985</td>\n",
              "      <td>87</td>\n",
              "      <td>66</td>\n",
              "      <td>63</td>\n",
              "      <td>-9</td>\n",
              "      <td>7</td>\n",
              "      <td>75</td>\n",
              "      <td>343</td>\n",
              "      <td>12</td>\n",
              "      <td>3</td>\n",
              "      <td>68</td>\n",
              "    </tr>\n",
              "  </tbody>\n",
              "</table>\n",
              "</div>"
            ],
            "text/plain": [
              "      Index              Title  ... Speechiness Popularity\n",
              "1311   1312             Jeanny  ...           5         58\n",
              "1312   1313  Money for Nothing  ...           4         62\n",
              "1322   1323             Nikita  ...           3         68\n",
              "\n",
              "[3 rows x 15 columns]"
            ]
          },
          "metadata": {
            "tags": []
          },
          "execution_count": 71
        }
      ]
    },
    {
      "cell_type": "code",
      "metadata": {
        "id": "8NUezjH2aM-E",
        "colab_type": "code",
        "outputId": "3e2fe459-cb16-4dcd-8509-300362911a32",
        "colab": {
          "base_uri": "https://localhost:8080/",
          "height": 34
        }
      },
      "source": [
        "df.Popularity.max()"
      ],
      "execution_count": 0,
      "outputs": [
        {
          "output_type": "execute_result",
          "data": {
            "text/plain": [
              "100"
            ]
          },
          "metadata": {
            "tags": []
          },
          "execution_count": 72
        }
      ]
    },
    {
      "cell_type": "code",
      "metadata": {
        "id": "4Z7tqw1WaeLI",
        "colab_type": "code",
        "outputId": "c4b6722e-d981-490a-b22e-8aa60979b022",
        "colab": {
          "base_uri": "https://localhost:8080/",
          "height": 52
        }
      },
      "source": [
        "df[df.Popularity == df.Popularity.max()].Genre"
      ],
      "execution_count": 0,
      "outputs": [
        {
          "output_type": "execute_result",
          "data": {
            "text/plain": [
              "793    australian pop\n",
              "Name: Genre, dtype: object"
            ]
          },
          "metadata": {
            "tags": []
          },
          "execution_count": 76
        }
      ]
    },
    {
      "cell_type": "code",
      "metadata": {
        "id": "coWnZbCgakCK",
        "colab_type": "code",
        "outputId": "cd349f2f-6732-465d-d80d-f0c4f5752854",
        "colab": {
          "base_uri": "https://localhost:8080/",
          "height": 34
        }
      },
      "source": [
        "df[df.Genre == 'album rock'].Popularity.max()"
      ],
      "execution_count": 0,
      "outputs": [
        {
          "output_type": "execute_result",
          "data": {
            "text/plain": [
              "84"
            ]
          },
          "metadata": {
            "tags": []
          },
          "execution_count": 78
        }
      ]
    },
    {
      "cell_type": "code",
      "metadata": {
        "id": "C9MOIcN3a9_S",
        "colab_type": "code",
        "colab": {}
      },
      "source": [
        ""
      ],
      "execution_count": 0,
      "outputs": []
    }
  ]
}