{
  "nbformat": 4,
  "nbformat_minor": 0,
  "metadata": {
    "colab": {
      "name": "assignment_4.ipynb",
      "provenance": [],
      "collapsed_sections": []
    },
    "kernelspec": {
      "name": "python3",
      "display_name": "Python 3"
    }
  },
  "cells": [
    {
      "cell_type": "markdown",
      "metadata": {
        "id": "_PYXvb4jZlBM",
        "colab_type": "text"
      },
      "source": [
        "![alt text](https://secure.meetupstatic.com/photos/event/c/9/7/a/600_487911578.jpeg)\n",
        "\n",
        "Week 4 Assignment\n",
        "\n",
        "Data Scientist are Sexy. But to maintain it, we need skincare products!\n",
        "This week we will explore a dataset from Sephora with skincare products.\n",
        "Your tasks is to predict if a product is HOT or NOT.\n",
        "We will determine this by the rating column.\n",
        "\n",
        "We provided 2 dataframe: Train and Test. Notice that the test doesn't have the column \"rating\". \n",
        "\n",
        "You tasks is to build a model which predicts the rating of the test data (binary classification). Use the train dataset for training the model.\n",
        "You are free to use any model.\n",
        "\n",
        "\n",
        "Submit your ipynb on Google Forms.\n",
        "[https://forms.gle/qJzy4S1RadiFtdu3A](https://forms.gle/qJzy4S1RadiFtdu3A)"
      ]
    },
    {
      "cell_type": "code",
      "metadata": {
        "id": "lKuiKcEWZB5u",
        "colab_type": "code",
        "outputId": "89f10990-7c3a-402d-e349-4fe49848ec61",
        "colab": {
          "base_uri": "https://localhost:8080/",
          "height": 251
        }
      },
      "source": [
        "!pip install rfpimp"
      ],
      "execution_count": 2,
      "outputs": [
        {
          "output_type": "stream",
          "text": [
            "Requirement already satisfied: rfpimp in /usr/local/lib/python3.6/dist-packages (1.3.4)\n",
            "Requirement already satisfied: sklearn in /usr/local/lib/python3.6/dist-packages (from rfpimp) (0.0)\n",
            "Requirement already satisfied: matplotlib in /usr/local/lib/python3.6/dist-packages (from rfpimp) (3.2.1)\n",
            "Requirement already satisfied: numpy in /usr/local/lib/python3.6/dist-packages (from rfpimp) (1.18.2)\n",
            "Requirement already satisfied: pandas in /usr/local/lib/python3.6/dist-packages (from rfpimp) (1.0.3)\n",
            "Requirement already satisfied: scikit-learn in /usr/local/lib/python3.6/dist-packages (from sklearn->rfpimp) (0.22.2.post1)\n",
            "Requirement already satisfied: cycler>=0.10 in /usr/local/lib/python3.6/dist-packages (from matplotlib->rfpimp) (0.10.0)\n",
            "Requirement already satisfied: python-dateutil>=2.1 in /usr/local/lib/python3.6/dist-packages (from matplotlib->rfpimp) (2.8.1)\n",
            "Requirement already satisfied: pyparsing!=2.0.4,!=2.1.2,!=2.1.6,>=2.0.1 in /usr/local/lib/python3.6/dist-packages (from matplotlib->rfpimp) (2.4.7)\n",
            "Requirement already satisfied: kiwisolver>=1.0.1 in /usr/local/lib/python3.6/dist-packages (from matplotlib->rfpimp) (1.2.0)\n",
            "Requirement already satisfied: pytz>=2017.2 in /usr/local/lib/python3.6/dist-packages (from pandas->rfpimp) (2018.9)\n",
            "Requirement already satisfied: joblib>=0.11 in /usr/local/lib/python3.6/dist-packages (from scikit-learn->sklearn->rfpimp) (0.14.1)\n",
            "Requirement already satisfied: scipy>=0.17.0 in /usr/local/lib/python3.6/dist-packages (from scikit-learn->sklearn->rfpimp) (1.4.1)\n",
            "Requirement already satisfied: six in /usr/local/lib/python3.6/dist-packages (from cycler>=0.10->matplotlib->rfpimp) (1.12.0)\n"
          ],
          "name": "stdout"
        }
      ]
    },
    {
      "cell_type": "code",
      "metadata": {
        "id": "GWb8hnzsZOQr",
        "colab_type": "code",
        "outputId": "1ecc17cb-15c9-4d9c-af74-a652ec19f2f8",
        "colab": {
          "base_uri": "https://localhost:8080/",
          "height": 201
        }
      },
      "source": [
        "!wget https://www.mlgraz.at/course_files/week4/train.csv"
      ],
      "execution_count": 3,
      "outputs": [
        {
          "output_type": "stream",
          "text": [
            "--2020-04-22 07:15:58--  https://www.mlgraz.at/course_files/week4/train.csv\n",
            "Resolving www.mlgraz.at (www.mlgraz.at)... 81.19.159.92\n",
            "Connecting to www.mlgraz.at (www.mlgraz.at)|81.19.159.92|:443... connected.\n",
            "HTTP request sent, awaiting response... 200 OK\n",
            "Length: 867803 (847K) [text/csv]\n",
            "Saving to: ‘train.csv’\n",
            "\n",
            "train.csv           100%[===================>] 847.46K  1.44MB/s    in 0.6s    \n",
            "\n",
            "2020-04-22 07:15:59 (1.44 MB/s) - ‘train.csv’ saved [867803/867803]\n",
            "\n"
          ],
          "name": "stdout"
        }
      ]
    },
    {
      "cell_type": "code",
      "metadata": {
        "id": "SzS-dFUuZQ0I",
        "colab_type": "code",
        "outputId": "9f77d7c5-67b5-4a2a-f08e-42b33a3b1767",
        "colab": {
          "base_uri": "https://localhost:8080/",
          "height": 201
        }
      },
      "source": [
        "!wget https://www.mlgraz.at/course_files/week4/test.csv"
      ],
      "execution_count": 4,
      "outputs": [
        {
          "output_type": "stream",
          "text": [
            "--2020-04-22 07:16:01--  https://www.mlgraz.at/course_files/week4/test.csv\n",
            "Resolving www.mlgraz.at (www.mlgraz.at)... 81.19.159.92\n",
            "Connecting to www.mlgraz.at (www.mlgraz.at)|81.19.159.92|:443... connected.\n",
            "HTTP request sent, awaiting response... 200 OK\n",
            "Length: 104445 (102K) [text/csv]\n",
            "Saving to: ‘test.csv’\n",
            "\n",
            "test.csv            100%[===================>] 102.00K   296KB/s    in 0.3s    \n",
            "\n",
            "2020-04-22 07:16:01 (296 KB/s) - ‘test.csv’ saved [104445/104445]\n",
            "\n"
          ],
          "name": "stdout"
        }
      ]
    },
    {
      "cell_type": "code",
      "metadata": {
        "id": "P0Xawxd3ZTSC",
        "colab_type": "code",
        "colab": {}
      },
      "source": [
        "import pandas as pd\n",
        "from sklearn.impute import SimpleImputer\n",
        "import numpy as np\n",
        "from sklearn.ensemble import RandomForestClassifier\n",
        "from  sklearn.preprocessing import OrdinalEncoder\n",
        "from sklearn.tree import DecisionTreeClassifier\n",
        "from sklearn.model_selection import train_test_split\n",
        "from sklearn.model_selection import cross_validate\n",
        "from  sklearn.metrics import *\n",
        "import matplotlib.pyplot as plt\n",
        "from sklearn.preprocessing import StandardScaler\n",
        "from sklearn import tree\n",
        "from sklearn import model_selection\n",
        "import plotly.express as px"
      ],
      "execution_count": 0,
      "outputs": []
    },
    {
      "cell_type": "code",
      "metadata": {
        "id": "q1V902XYZWrq",
        "colab_type": "code",
        "outputId": "dc2181a3-0463-4568-9432-28b9152e563f",
        "colab": {
          "base_uri": "https://localhost:8080/",
          "height": 104
        }
      },
      "source": [
        "import rfpimp"
      ],
      "execution_count": 6,
      "outputs": [
        {
          "output_type": "stream",
          "text": [
            "/usr/local/lib/python3.6/dist-packages/sklearn/utils/deprecation.py:144: FutureWarning:\n",
            "\n",
            "The sklearn.ensemble.forest module is  deprecated in version 0.22 and will be removed in version 0.24. The corresponding classes / functions should instead be imported from sklearn.ensemble. Anything that cannot be imported from sklearn.ensemble is now part of the private API.\n",
            "\n"
          ],
          "name": "stderr"
        }
      ]
    },
    {
      "cell_type": "code",
      "metadata": {
        "id": "MN7q3ir0ZYqD",
        "colab_type": "code",
        "colab": {}
      },
      "source": [
        "df_train = pd.read_csv(\"train.csv\")\n",
        "df_test = pd.read_csv(\"test.csv\")"
      ],
      "execution_count": 0,
      "outputs": []
    },
    {
      "cell_type": "code",
      "metadata": {
        "id": "dzYF5dZVQ_bm",
        "colab_type": "code",
        "outputId": "98ac0e06-c6a6-41f1-d067-e4028343a694",
        "colab": {
          "base_uri": "https://localhost:8080/",
          "height": 100
        }
      },
      "source": [
        "df_test.columns"
      ],
      "execution_count": 8,
      "outputs": [
        {
          "output_type": "execute_result",
          "data": {
            "text/plain": [
              "Index(['Unnamed: 0', 'brand', 'category', 'name', 'number_of_reviews', 'price',\n",
              "       'value_price', 'MarketingFlags', 'MarketingFlags_content',\n",
              "       'online_only', 'exclusive', 'limited_edition', 'limited_time_offer',\n",
              "       'likes'],\n",
              "      dtype='object')"
            ]
          },
          "metadata": {
            "tags": []
          },
          "execution_count": 8
        }
      ]
    },
    {
      "cell_type": "code",
      "metadata": {
        "id": "_8_pnUGHZctI",
        "colab_type": "code",
        "outputId": "a451806a-a5fb-42bc-f661-932ceffe1046",
        "colab": {
          "base_uri": "https://localhost:8080/",
          "height": 417
        }
      },
      "source": [
        "df_train.head()"
      ],
      "execution_count": 9,
      "outputs": [
        {
          "output_type": "execute_result",
          "data": {
            "text/html": [
              "<div>\n",
              "<style scoped>\n",
              "    .dataframe tbody tr th:only-of-type {\n",
              "        vertical-align: middle;\n",
              "    }\n",
              "\n",
              "    .dataframe tbody tr th {\n",
              "        vertical-align: top;\n",
              "    }\n",
              "\n",
              "    .dataframe thead th {\n",
              "        text-align: right;\n",
              "    }\n",
              "</style>\n",
              "<table border=\"1\" class=\"dataframe\">\n",
              "  <thead>\n",
              "    <tr style=\"text-align: right;\">\n",
              "      <th></th>\n",
              "      <th>Unnamed: 0</th>\n",
              "      <th>brand</th>\n",
              "      <th>category</th>\n",
              "      <th>name</th>\n",
              "      <th>rating</th>\n",
              "      <th>number_of_reviews</th>\n",
              "      <th>price</th>\n",
              "      <th>value_price</th>\n",
              "      <th>MarketingFlags</th>\n",
              "      <th>MarketingFlags_content</th>\n",
              "      <th>online_only</th>\n",
              "      <th>exclusive</th>\n",
              "      <th>limited_edition</th>\n",
              "      <th>limited_time_offer</th>\n",
              "      <th>likes</th>\n",
              "    </tr>\n",
              "  </thead>\n",
              "  <tbody>\n",
              "    <tr>\n",
              "      <th>0</th>\n",
              "      <td>0</td>\n",
              "      <td>Acqua Di Parma</td>\n",
              "      <td>Fragrance</td>\n",
              "      <td>Blu Mediterraneo MINIATURE Set</td>\n",
              "      <td>1</td>\n",
              "      <td>4</td>\n",
              "      <td>66.0</td>\n",
              "      <td>75.0</td>\n",
              "      <td>True</td>\n",
              "      <td>online only</td>\n",
              "      <td>1</td>\n",
              "      <td>0</td>\n",
              "      <td>0</td>\n",
              "      <td>0</td>\n",
              "      <td>3002</td>\n",
              "    </tr>\n",
              "    <tr>\n",
              "      <th>1</th>\n",
              "      <td>1</td>\n",
              "      <td>Acqua Di Parma</td>\n",
              "      <td>Cologne</td>\n",
              "      <td>Colonia</td>\n",
              "      <td>1</td>\n",
              "      <td>76</td>\n",
              "      <td>66.0</td>\n",
              "      <td>66.0</td>\n",
              "      <td>True</td>\n",
              "      <td>online only</td>\n",
              "      <td>1</td>\n",
              "      <td>0</td>\n",
              "      <td>0</td>\n",
              "      <td>0</td>\n",
              "      <td>2700</td>\n",
              "    </tr>\n",
              "    <tr>\n",
              "      <th>2</th>\n",
              "      <td>2</td>\n",
              "      <td>Acqua Di Parma</td>\n",
              "      <td>Perfume</td>\n",
              "      <td>Arancia di Capri</td>\n",
              "      <td>1</td>\n",
              "      <td>26</td>\n",
              "      <td>180.0</td>\n",
              "      <td>180.0</td>\n",
              "      <td>True</td>\n",
              "      <td>online only</td>\n",
              "      <td>1</td>\n",
              "      <td>0</td>\n",
              "      <td>0</td>\n",
              "      <td>0</td>\n",
              "      <td>2600</td>\n",
              "    </tr>\n",
              "    <tr>\n",
              "      <th>3</th>\n",
              "      <td>4</td>\n",
              "      <td>Acqua Di Parma</td>\n",
              "      <td>Fragrance</td>\n",
              "      <td>Colonia Miniature Set</td>\n",
              "      <td>0</td>\n",
              "      <td>2</td>\n",
              "      <td>72.0</td>\n",
              "      <td>80.0</td>\n",
              "      <td>True</td>\n",
              "      <td>online only</td>\n",
              "      <td>1</td>\n",
              "      <td>0</td>\n",
              "      <td>0</td>\n",
              "      <td>0</td>\n",
              "      <td>943</td>\n",
              "    </tr>\n",
              "    <tr>\n",
              "      <th>4</th>\n",
              "      <td>5</td>\n",
              "      <td>Acqua Di Parma</td>\n",
              "      <td>Perfume</td>\n",
              "      <td>Fico di Amalfi</td>\n",
              "      <td>1</td>\n",
              "      <td>79</td>\n",
              "      <td>180.0</td>\n",
              "      <td>180.0</td>\n",
              "      <td>True</td>\n",
              "      <td>online only</td>\n",
              "      <td>1</td>\n",
              "      <td>0</td>\n",
              "      <td>0</td>\n",
              "      <td>0</td>\n",
              "      <td>2600</td>\n",
              "    </tr>\n",
              "  </tbody>\n",
              "</table>\n",
              "</div>"
            ],
            "text/plain": [
              "   Unnamed: 0           brand  ... limited_time_offer likes\n",
              "0           0  Acqua Di Parma  ...                  0  3002\n",
              "1           1  Acqua Di Parma  ...                  0  2700\n",
              "2           2  Acqua Di Parma  ...                  0  2600\n",
              "3           4  Acqua Di Parma  ...                  0   943\n",
              "4           5  Acqua Di Parma  ...                  0  2600\n",
              "\n",
              "[5 rows x 15 columns]"
            ]
          },
          "metadata": {
            "tags": []
          },
          "execution_count": 9
        }
      ]
    },
    {
      "cell_type": "code",
      "metadata": {
        "id": "uWZeACEKZd1J",
        "colab_type": "code",
        "outputId": "28a491ee-30c4-4a58-c103-e724f336180c",
        "colab": {
          "base_uri": "https://localhost:8080/",
          "height": 484
        }
      },
      "source": [
        "df_test.head()"
      ],
      "execution_count": 10,
      "outputs": [
        {
          "output_type": "execute_result",
          "data": {
            "text/html": [
              "<div>\n",
              "<style scoped>\n",
              "    .dataframe tbody tr th:only-of-type {\n",
              "        vertical-align: middle;\n",
              "    }\n",
              "\n",
              "    .dataframe tbody tr th {\n",
              "        vertical-align: top;\n",
              "    }\n",
              "\n",
              "    .dataframe thead th {\n",
              "        text-align: right;\n",
              "    }\n",
              "</style>\n",
              "<table border=\"1\" class=\"dataframe\">\n",
              "  <thead>\n",
              "    <tr style=\"text-align: right;\">\n",
              "      <th></th>\n",
              "      <th>Unnamed: 0</th>\n",
              "      <th>brand</th>\n",
              "      <th>category</th>\n",
              "      <th>name</th>\n",
              "      <th>number_of_reviews</th>\n",
              "      <th>price</th>\n",
              "      <th>value_price</th>\n",
              "      <th>MarketingFlags</th>\n",
              "      <th>MarketingFlags_content</th>\n",
              "      <th>online_only</th>\n",
              "      <th>exclusive</th>\n",
              "      <th>limited_edition</th>\n",
              "      <th>limited_time_offer</th>\n",
              "      <th>likes</th>\n",
              "    </tr>\n",
              "  </thead>\n",
              "  <tbody>\n",
              "    <tr>\n",
              "      <th>0</th>\n",
              "      <td>3941</td>\n",
              "      <td>Jack Black</td>\n",
              "      <td>Toners</td>\n",
              "      <td>Oil-Control Toner</td>\n",
              "      <td>3</td>\n",
              "      <td>25.0</td>\n",
              "      <td>25.0</td>\n",
              "      <td>True</td>\n",
              "      <td>online only</td>\n",
              "      <td>1</td>\n",
              "      <td>0</td>\n",
              "      <td>0</td>\n",
              "      <td>0</td>\n",
              "      <td>311</td>\n",
              "    </tr>\n",
              "    <tr>\n",
              "      <th>1</th>\n",
              "      <td>3064</td>\n",
              "      <td>Fresh</td>\n",
              "      <td>Moisturizers</td>\n",
              "      <td>Crème Ancienne® Soft Cream</td>\n",
              "      <td>39</td>\n",
              "      <td>148.0</td>\n",
              "      <td>148.0</td>\n",
              "      <td>False</td>\n",
              "      <td>0</td>\n",
              "      <td>0</td>\n",
              "      <td>0</td>\n",
              "      <td>0</td>\n",
              "      <td>0</td>\n",
              "      <td>5100</td>\n",
              "    </tr>\n",
              "    <tr>\n",
              "      <th>2</th>\n",
              "      <td>8281</td>\n",
              "      <td>TOM FORD</td>\n",
              "      <td>Deodorant for Men</td>\n",
              "      <td>Oud Wood Deodorant Stick</td>\n",
              "      <td>9</td>\n",
              "      <td>53.0</td>\n",
              "      <td>53.0</td>\n",
              "      <td>False</td>\n",
              "      <td>0</td>\n",
              "      <td>0</td>\n",
              "      <td>0</td>\n",
              "      <td>0</td>\n",
              "      <td>0</td>\n",
              "      <td>897</td>\n",
              "    </tr>\n",
              "    <tr>\n",
              "      <th>3</th>\n",
              "      <td>6413</td>\n",
              "      <td>Perricone MD</td>\n",
              "      <td>Bronzer</td>\n",
              "      <td>No Makeup Bronzer Broad Spectrum SPF 20</td>\n",
              "      <td>196</td>\n",
              "      <td>35.0</td>\n",
              "      <td>35.0</td>\n",
              "      <td>False</td>\n",
              "      <td>0</td>\n",
              "      <td>0</td>\n",
              "      <td>0</td>\n",
              "      <td>0</td>\n",
              "      <td>0</td>\n",
              "      <td>11600</td>\n",
              "    </tr>\n",
              "    <tr>\n",
              "      <th>4</th>\n",
              "      <td>1302</td>\n",
              "      <td>Caudalie</td>\n",
              "      <td>Mini Size</td>\n",
              "      <td>Vinosource SOS Deep Hydration Moisturizer Mini</td>\n",
              "      <td>3</td>\n",
              "      <td>24.0</td>\n",
              "      <td>24.0</td>\n",
              "      <td>False</td>\n",
              "      <td>0</td>\n",
              "      <td>0</td>\n",
              "      <td>0</td>\n",
              "      <td>0</td>\n",
              "      <td>0</td>\n",
              "      <td>0</td>\n",
              "    </tr>\n",
              "  </tbody>\n",
              "</table>\n",
              "</div>"
            ],
            "text/plain": [
              "   Unnamed: 0         brand  ... limited_time_offer  likes\n",
              "0        3941    Jack Black  ...                  0    311\n",
              "1        3064         Fresh  ...                  0   5100\n",
              "2        8281      TOM FORD  ...                  0    897\n",
              "3        6413  Perricone MD  ...                  0  11600\n",
              "4        1302      Caudalie  ...                  0      0\n",
              "\n",
              "[5 rows x 14 columns]"
            ]
          },
          "metadata": {
            "tags": []
          },
          "execution_count": 10
        }
      ]
    },
    {
      "cell_type": "code",
      "metadata": {
        "id": "-yAsi2OiZe4X",
        "colab_type": "code",
        "colab": {
          "base_uri": "https://localhost:8080/",
          "height": 953
        },
        "outputId": "2ec89f3f-a19b-4ce5-e7f9-0fa0e12b9168"
      },
      "source": [
        "df_test.brand.unique()"
      ],
      "execution_count": 14,
      "outputs": [
        {
          "output_type": "execute_result",
          "data": {
            "text/plain": [
              "array(['Jack Black', 'Fresh', 'TOM FORD', 'Perricone MD', 'Caudalie',\n",
              "       'belif', 'Calvin Klein', 'Slip', 'Bumble and bumble',\n",
              "       'SEPHORA COLLECTION', 'dpHUE', 'Youth To The People',\n",
              "       'Benefit Cosmetics', 'NARS', 'COOLA', 'Urban Decay',\n",
              "       'FENTY BEAUTY by Rihanna', 'beautyblender', 'Violet Voss',\n",
              "       'Hourglass', 'Skinfix', 'Anastasia Beverly Hills', 'TOCCA',\n",
              "       'KENZOKI', 'Natasha Denona', 'Givenchy', 'Shiseido',\n",
              "       'KEVYN AUCOIN', 'Estée Lauder', 'CHANEL', 'Deborah Lippmann',\n",
              "       'rms beauty', 'CLINIQUE', 'First Aid Beauty', 'HERMÈS', 'Kaja',\n",
              "       'Kate Somerville', 'Seed Phytonutrients', 'DOLCE&GABBANA', 'Artis',\n",
              "       'bareMinerals', 'Wander Beauty', 'IGK', 'tarte', 'Algenist',\n",
              "       'LANCER Skincare', 'amika', 'Gucci', 'Peter Thomas Roth',\n",
              "       'HUDA BEAUTY', \"L'Occitane\", 'Laura Mercier', 'Smashbox',\n",
              "       'COVER FX', 'Dr. Dennis Gross Skincare', 'Viktor&Rolf', 'La Mer',\n",
              "       'Dr. Brandt Skincare', 'ELLIS BROOKLYN', 'goop', 'The INKEY List',\n",
              "       'innisfree', 'Kérastase', 'Aquis', 'Mount Lai',\n",
              "       'Juliette Has a Gun', 'BECCA', \"Kiehl's Since 1851\",\n",
              "       'MAKE UP FOR EVER', 'IT Cosmetics', 'Verb', 'Murad', 'Chloé',\n",
              "       'NUDESTIX', 'Armani Beauty', 'NAILS INC.', 'OUAI', 'Bobbi Brown',\n",
              "       'Klorane', 'FARSÁLI', 'Charlotte Tilbury', 'Guerlain', 'Lancôme',\n",
              "       'Farmacy', 'Anthony', 'Marc Jacobs Fragrances', 'Together Beauty',\n",
              "       'LANEIGE', 'Lab Series For Men', 'BERDOUES',\n",
              "       'Rossano Ferretti Parma', 'ALTERNA Haircare', 'KVD Vegan Beauty',\n",
              "       'FORM ', 'Living Proof', 'Kilian', 'Versace', 'Moroccanoil',\n",
              "       'Herbivore', 'PHLUR', 'Buxom', 'Moschino', 'shu uemura',\n",
              "       'Obagi Clinical', 'STELLAR', 'Dr. Jart+', 'Pretty Vulgar',\n",
              "       'KORRES', 'REN Clean Skincare', 'Yves Saint Laurent', 'Tatcha',\n",
              "       'Briogeo', 'Michael Kors', 'BURBERRY', 'Origins', 'Mizani',\n",
              "       'Ralph Lauren', 'The 7 Virtues', 'The Art of Shaving', 'boscia',\n",
              "       'Vitruvi', 'Omorovicza', 'DevaCurl', 'Cinema Secrets',\n",
              "       'St. Tropez', 'Dermalogica', 'NEST New York', 'CLEAN RESERVE',\n",
              "       'Marc Jacobs Beauty', 'MILK MAKEUP', 'ILIA', 'Viseart',\n",
              "       'PAT McGRATH LABS', 'TAN-LUXE', 'Dior', 'PINROSE',\n",
              "       'Acqua Di Parma', 'Naturally Serious', 'Supergoop!',\n",
              "       'Christophe Robin', 'Too Faced', 'WelleCo', 'Tory Burch',\n",
              "       'Maison Louis Marie', 'Kitsch', 'Dr. Barbara Sturm',\n",
              "       'John Varvatos', 'Glow Recipe', 'AERIN', 'philosophy',\n",
              "       'Jouer Cosmetics', \"Dr Roebuck's\", 'Miu Miu', 'Overose',\n",
              "       'HUM Nutrition', 'Saturday Skin', 'Bio Ionic', 'Drunk Elephant',\n",
              "       'Capri Blue', 'Proactiv', 'Good Dye Young', 'Artist Couture',\n",
              "       'Floral Street', 'Biossance', 'Tata Harper', 'alpyn beauty',\n",
              "       'Four Sigmatic', 'FOREO', 'Mugler', 'Rosebud Perfume Co.',\n",
              "       'Eve Lom', 'Kosas', 'lilah b.', 'Maison Margiela',\n",
              "       'Jo Malone London', 'Kopari', 'Clarins', 'Drybar',\n",
              "       'Grande Cosmetics', 'Melt Cosmetics', 'Primera', 'Sulwhasoo',\n",
              "       'The Ordinary', 'VOLUSPA', 'Erborian', 'AMOREPACIFIC', 'BeautyBio',\n",
              "       'Evian', 'Koh Gen Do', 'SKYLAR', 'O&M', 'Marvis',\n",
              "       'Clarisonic Skincare', 'Sephora Favorites', 'lululemon selfcare',\n",
              "       'Virtue', 'surratt beauty', 'Alpha-H', 'Mario Badescu',\n",
              "       'Atelier Cologne', 'Josie Maran', 'Velour Lashes', 'T3',\n",
              "       'Sol de Janeiro', 'Vital Proteins', 'SUNDAY RILEY',\n",
              "       'By Rosie Jane', 'KORA Organics', 'Reverie', 'Rahua', 'Playa',\n",
              "       'OLEHENRIKSEN', 'Moon Juice', 'Ciaté London', 'PMD', 'Eight & Bob',\n",
              "       'GLO Science', 'NuFACE', 'Sachajuan', 'LXMI', 'TWEEZERMAN',\n",
              "       'Olaplex', 'RODIN olio lusso ', 'KNC Beauty', 'ghd', 'INC.redible',\n",
              "       'Saint Jane Beauty'], dtype=object)"
            ]
          },
          "metadata": {
            "tags": []
          },
          "execution_count": 14
        }
      ]
    },
    {
      "cell_type": "markdown",
      "metadata": {
        "id": "havQLaC8wXlP",
        "colab_type": "text"
      },
      "source": [
        "Tip #01 - Train and Test data have different unique values\n",
        "\n",
        "Individual columns like \"brand\" and \"category\" may contain different unique values between the two data frames. \n",
        "\n",
        "As a simple solution, you can drop all unique values from the df_test, which are not in df_train. If you have time, try to find a better solution to this problem."
      ]
    },
    {
      "cell_type": "code",
      "metadata": {
        "id": "bLiEk7Esv08R",
        "colab_type": "code",
        "colab": {
          "base_uri": "https://localhost:8080/",
          "height": 33
        },
        "outputId": "e549dc11-6727-4d31-a1e2-89beb7b66b94"
      },
      "source": [
        "df_train_unique = df_train.brand.unique()\n",
        "df_train_unique[0]"
      ],
      "execution_count": 29,
      "outputs": [
        {
          "output_type": "execute_result",
          "data": {
            "text/plain": [
              "'Acqua Di Parma'"
            ]
          },
          "metadata": {
            "tags": []
          },
          "execution_count": 29
        }
      ]
    },
    {
      "cell_type": "code",
      "metadata": {
        "id": "xAILowmZv_Ug",
        "colab_type": "code",
        "colab": {
          "base_uri": "https://localhost:8080/",
          "height": 33
        },
        "outputId": "0b8d5aa6-816b-438b-ba68-be3efe778ad3"
      },
      "source": [
        "df_test.brand.nunique()"
      ],
      "execution_count": 21,
      "outputs": [
        {
          "output_type": "execute_result",
          "data": {
            "text/plain": [
              "227"
            ]
          },
          "metadata": {
            "tags": []
          },
          "execution_count": 21
        }
      ]
    },
    {
      "cell_type": "code",
      "metadata": {
        "id": "1KIkyn8vwFv3",
        "colab_type": "code",
        "colab": {
          "base_uri": "https://localhost:8080/",
          "height": 217
        },
        "outputId": "46e739d4-c76e-4768-a81d-c8f0f26c25ec"
      },
      "source": [
        "df_test.brand[df_train_unique]"
      ],
      "execution_count": 32,
      "outputs": [
        {
          "output_type": "execute_result",
          "data": {
            "text/plain": [
              "Acqua Di Parma         NaN\n",
              "AERIN                  NaN\n",
              "Aether Beauty          NaN\n",
              "Algenist               NaN\n",
              "Alpha-H                NaN\n",
              "                      ... \n",
              "Youth To The People    NaN\n",
              "YUNI                   NaN\n",
              "Yves Saint Laurent     NaN\n",
              "The 7 Virtues          NaN\n",
              "8Greens                NaN\n",
              "Name: brand, Length: 324, dtype: object"
            ]
          },
          "metadata": {
            "tags": []
          },
          "execution_count": 32
        }
      ]
    },
    {
      "cell_type": "code",
      "metadata": {
        "id": "Pqql8h_Nw0uI",
        "colab_type": "code",
        "colab": {}
      },
      "source": [
        ""
      ],
      "execution_count": 0,
      "outputs": []
    }
  ]
}